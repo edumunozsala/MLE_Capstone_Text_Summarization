{
 "cells": [
  {
   "cell_type": "markdown",
   "metadata": {},
   "source": [
    "## Text Summarization using machine learning techniques\n",
    "\n",
    "This notebook implements and describe a soluction to the text summarization problem, using an extractive approach. We develop a model based on clustering of sentences previously embedded. We create k clusters of similar sentences, then for every cluster we select the sentence closest to its centroid. \n",
    "\n",
    "Now we describe the main steps involved:\n",
    "1.\tData preprocess and cleaning (Done previously in another notebook).\n",
    "2.\tSentence embedding using pretrained vectors\n",
    "\n",
    "Word embeddings are a type of word representation that allows words with similar meaning to have a similar representation. Word embeddings are in fact a class of techniques where individual words are represented as real-valued vectors in a predefined vector space. Each word is mapped to one vector and the vector values are learned based on the usage of words. This allows words that are used in similar ways to result in having similar representations, naturally capturing their meaning. A well-trained set of word vectors will place similar words close to each other in that space. The words oak, elm and birch might cluster in one corner, while war, conflict and strife huddle together in another.\n",
    "\n",
    "GloVe, algorithm is an extension to the word2vec method for efficiently learning word vectors, is an unsupervised learning algorithm that constructs an explicit word-context or word co-occurrence matrix using statistics across the whole text corpus.[9]\n",
    "\n",
    "3.\tSentence clustering\n",
    "Once the sentences are embedded we apply a K-Means clustering method to group the sentences in k clusters. Each cluster of sentence embeddings can be interpreted as a set of semantically similar sentences whose meaning can be expressed by just one candidate sentence in the summary.\n",
    "\n",
    "4.\tSelect the most representative sentence of each cluster\n",
    "The candidate sentence chosen in every cluster is the one whose vector representation is closest to the cluster center.\n",
    "\n",
    "5.\tOrdering the sentences to form the summary\n",
    "Candidate sentences corresponding to each cluster are then ordered to form a summary. The order of the candidate sentences in the summary is determined by the positions of the sentences in their corresponding clusters in the original document\n"
   ]
  },
  {
   "cell_type": "markdown",
   "metadata": {},
   "source": [
    "### Importing the libraries"
   ]
  },
  {
   "cell_type": "markdown",
   "metadata": {},
   "source": [
    "We will use the rouge library to calculate the ROUGE metrics to evaluate the results.This library is independent from the \"official\" ROUGE script (aka. ROUGE-155) and results may be slighlty different,but it is very easy to use.\n"
   ]
  },
  {
   "cell_type": "code",
   "execution_count": 3,
   "metadata": {},
   "outputs": [
    {
     "name": "stdout",
     "output_type": "stream",
     "text": [
      "Collecting rouge\n",
      "  Downloading rouge-1.0.0-py3-none-any.whl (14 kB)\n",
      "Requirement already satisfied: six in /opt/conda/lib/python3.7/site-packages (from rouge) (1.14.0)\n",
      "Installing collected packages: rouge\n",
      "Successfully installed rouge-1.0.0\n"
     ]
    }
   ],
   "source": [
    "!pip install rouge"
   ]
  },
  {
   "cell_type": "code",
   "execution_count": 1,
   "metadata": {},
   "outputs": [],
   "source": [
    "# Import utils and visualization tools\n",
    "import pandas as pd\n",
    "import numpy as np\n",
    "import os\n",
    "import re\n",
    "import matplotlib.pyplot as plt\n",
    "import seaborn as sns\n",
    "%matplotlib inline\n",
    "\n",
    "#Import te libraries for text tokenization\n",
    "from nltk.tokenize import sent_tokenize\n",
    "#Import the libraries for clustering\n",
    "from sklearn.cluster import KMeans\n",
    "from sklearn.metrics import pairwise_distances_argmin_min\n",
    "\n",
    "#Import library to calculate the evaluation metric\n",
    "from rouge import FilesRouge, Rouge"
   ]
  },
  {
   "cell_type": "markdown",
   "metadata": {},
   "source": [
    "#### Defining global variables"
   ]
  },
  {
   "cell_type": "code",
   "execution_count": 2,
   "metadata": {},
   "outputs": [],
   "source": [
    "# Define the data path and the train and validation datasets\n",
    "data_path='MLE_Capstone_Text_Summarization/data'\n",
    "traindata_file= 'cl_train_news_summary.csv'\n",
    "validdata_file= 'cl_train_news_summary.csv'\n",
    "train_filename = os.path.join(data_path, traindata_file)\n",
    "valid_filename = os.path.join(data_path, validdata_file)\n",
    "# Define the output data path and the output files for train and validation datasets\n",
    "output_path = 'MLE_Capstone_Text_Summarization/data'\n",
    "output_train_file = 'sent_clustering_train_results.csv'\n",
    "output_valid_file = 'sent_clustering_valid_results.csv'\n",
    "output_train_filename = os.path.join(data_path, traindata_file)\n",
    "output_valid_filename = os.path.join(data_path, validdata_file)\n",
    "# Set the embeddings file name\n",
    "glove_file = 'glove.6B.100d.txt'\n",
    "glove_filename = os.path.join(data_path, glove_file)"
   ]
  },
  {
   "cell_type": "markdown",
   "metadata": {},
   "source": [
    "We need  to move the embeddings from Google Storage the first time we run this notebook"
   ]
  },
  {
   "cell_type": "code",
   "execution_count": 8,
   "metadata": {},
   "outputs": [
    {
     "name": "stderr",
     "output_type": "stream",
     "text": [
      "Copying gs://mlend_text_summarization/embeddings/glove.6B.100d.txt...\n",
      "- [1 files][331.0 MiB/331.0 MiB]                                                \n",
      "Operation completed over 1 objects/331.0 MiB.                                    \n"
     ]
    }
   ],
   "source": [
    "#%%bash\n",
    "#gsutil cp gs://mlend_text_summarization/embeddings/glove.6B.100d.txt MLE_Capstone_Text_Summarization/data"
   ]
  },
  {
   "cell_type": "markdown",
   "metadata": {},
   "source": [
    "### Loading the train and validation data"
   ]
  },
  {
   "cell_type": "code",
   "execution_count": 3,
   "metadata": {},
   "outputs": [],
   "source": [
    "# Run only when new datafiles have been stored in GS\n",
    "#%%bash\n",
    "#gsutil cp gs://mlend_bucket/data/news_summary/news_summary_more.csv ../data/"
   ]
  },
  {
   "cell_type": "code",
   "execution_count": 3,
   "metadata": {},
   "outputs": [
    {
     "data": {
      "text/html": [
       "<div>\n",
       "<style scoped>\n",
       "    .dataframe tbody tr th:only-of-type {\n",
       "        vertical-align: middle;\n",
       "    }\n",
       "\n",
       "    .dataframe tbody tr th {\n",
       "        vertical-align: top;\n",
       "    }\n",
       "\n",
       "    .dataframe thead th {\n",
       "        text-align: right;\n",
       "    }\n",
       "</style>\n",
       "<table border=\"1\" class=\"dataframe\">\n",
       "  <thead>\n",
       "    <tr style=\"text-align: right;\">\n",
       "      <th></th>\n",
       "      <th>summary</th>\n",
       "      <th>text</th>\n",
       "    </tr>\n",
       "  </thead>\n",
       "  <tbody>\n",
       "    <tr>\n",
       "      <th>0</th>\n",
       "      <td>south korean tech giant samsung refuted report...</td>\n",
       "      <td>samsung galaxy note fan waiting hear words not...</td>\n",
       "    </tr>\n",
       "    <tr>\n",
       "      <th>1</th>\n",
       "      <td>public works department pwd approved construct...</td>\n",
       "      <td>public works department pwd cleared proposal c...</td>\n",
       "    </tr>\n",
       "    <tr>\n",
       "      <th>2</th>\n",
       "      <td>central board excise customs cbec friday annou...</td>\n",
       "      <td>new delhi jun 30 pti india transits new era ro...</td>\n",
       "    </tr>\n",
       "    <tr>\n",
       "      <th>3</th>\n",
       "      <td>bomb squads canine teams rushed check package ...</td>\n",
       "      <td>new delhi aug 2 pti bomb squads canine teams t...</td>\n",
       "    </tr>\n",
       "    <tr>\n",
       "      <th>4</th>\n",
       "      <td>indian spinner kuldeep yadav registered 468 de...</td>\n",
       "      <td>newcomer kuldeep yadav picked four wickets deb...</td>\n",
       "    </tr>\n",
       "    <tr>\n",
       "      <th>5</th>\n",
       "      <td>pakistaniorigin terrorist behind london bridge...</td>\n",
       "      <td>pakistaniorigin terrorist behind london bridge...</td>\n",
       "    </tr>\n",
       "    <tr>\n",
       "      <th>6</th>\n",
       "      <td>half university students australia sexually ha...</td>\n",
       "      <td>8.11am bst 0811 brings coverage ahrcs landmark...</td>\n",
       "    </tr>\n",
       "    <tr>\n",
       "      <th>7</th>\n",
       "      <td>eve indian pm narendra modis us visit presiden...</td>\n",
       "      <td>official eds incorporating modi visit series l...</td>\n",
       "    </tr>\n",
       "    <tr>\n",
       "      <th>8</th>\n",
       "      <td>according reports song penned actor sanjay dut...</td>\n",
       "      <td>jail made sanjay dutt changed man turns poet w...</td>\n",
       "    </tr>\n",
       "    <tr>\n",
       "      <th>9</th>\n",
       "      <td>anticorruption bureau acb said exdelhi ministe...</td>\n",
       "      <td>kapil mishra submitted documents acb back alle...</td>\n",
       "    </tr>\n",
       "  </tbody>\n",
       "</table>\n",
       "</div>"
      ],
      "text/plain": [
       "                                             summary  \\\n",
       "0  south korean tech giant samsung refuted report...   \n",
       "1  public works department pwd approved construct...   \n",
       "2  central board excise customs cbec friday annou...   \n",
       "3  bomb squads canine teams rushed check package ...   \n",
       "4  indian spinner kuldeep yadav registered 468 de...   \n",
       "5  pakistaniorigin terrorist behind london bridge...   \n",
       "6  half university students australia sexually ha...   \n",
       "7  eve indian pm narendra modis us visit presiden...   \n",
       "8  according reports song penned actor sanjay dut...   \n",
       "9  anticorruption bureau acb said exdelhi ministe...   \n",
       "\n",
       "                                                text  \n",
       "0  samsung galaxy note fan waiting hear words not...  \n",
       "1  public works department pwd cleared proposal c...  \n",
       "2  new delhi jun 30 pti india transits new era ro...  \n",
       "3  new delhi aug 2 pti bomb squads canine teams t...  \n",
       "4  newcomer kuldeep yadav picked four wickets deb...  \n",
       "5  pakistaniorigin terrorist behind london bridge...  \n",
       "6  8.11am bst 0811 brings coverage ahrcs landmark...  \n",
       "7  official eds incorporating modi visit series l...  \n",
       "8  jail made sanjay dutt changed man turns poet w...  \n",
       "9  kapil mishra submitted documents acb back alle...  "
      ]
     },
     "execution_count": 3,
     "metadata": {},
     "output_type": "execute_result"
    }
   ],
   "source": [
    "#Load the train dataset into a pandas dataframe\n",
    "train_df = pd.read_csv(train_filename, encoding='utf-8')\n",
    "train_df.head(10)\n",
    "#Load the validation dataset into a pandas dataframe\n",
    "valid_df = pd.read_csv(valid_filename, encoding='utf-8')\n",
    "valid_df.head(10)"
   ]
  },
  {
   "cell_type": "markdown",
   "metadata": {},
   "source": [
    "## Word embeddings\n",
    "\n",
    "**What is word embedding?**\n",
    "Word embeddings are a type of word representation that allows words with similar meaning to have a similar representation. They are a distributed representation for text that is perhaps one of the key breakthroughs for the impressive performance of deep learning methods on challenging natural language processing problems.\n",
    "\n",
    "Word embeddings are in fact a class of techniques where individual words are represented as real-valued vectors in a predefined vector space. Each word is mapped to one vector and the vector values are learned in a way that resembles a neural network, and hence the technique is often lumped into the field of deep learning. The distributed representation is learned based on the usage of words. This allows words that are used in similar ways to result in having similar representations, naturally capturing their meaning. \n",
    "\n",
    "**How can we obtain the word embedings?**\n",
    "1. **Embedding Layer**\n",
    "An embedding layer is a word embedding that is learned in a neural network model on a specific natural language processing task. The documents or corpus of the task are cleaned and prepared and the size of the vector space is specified as part of the model, such as 50, 100, or 300 dimensions. The vectors are initialized with small random numbers. The embedding layer is used on the front end of a neural network and is fit in a supervised way using the Backpropagation algorithm. \n",
    "\n",
    "This approach requires a lot of training data and can be very slow, but will learn an embedding both targeted to the specific text data and the NLP task\n",
    "\n",
    "2. **Word2Vec**\n",
    "Word2Vec is a statistical method for efficiently learning a standalone word embedding from a text corpus. It was developed by Tomas Mikolov, et al. at Google in 2013 as a response to make the neural-network-based training of the embedding more efficient and since then has become the de facto standard for developing pre-trained word embedding.\n",
    "\n",
    "It learns the word embedding in one of two ways, either using context to predict a target word (a method known as continuous bag of words, or CBOW), or using a word to predict a target context, which is called skip-gram. The latter method usually produces more accurate results on large datasets.\n",
    "\n",
    "A well trained set of word vectors will place similar words close to each other in that space. The words oak, elm and birch might cluster in one corner, while war, conflict and strife huddle together in another.\n",
    "\n",
    "3. **Glove**\n",
    "The Global Vectors for Word Representation, or GloVe, algorithm is an extension to the word2vec method for efficiently learning word vectors, developed by Pennington, et al. at Stanford. GloVe is an unsupervised learning algorithm for obtaining vector representations for words. Training is performed on aggregated global word-word co-occurrence statistics from a corpus, and the resulting representations showcase interesting linear substructures of the word vector space.\n",
    "\n",
    "GloVe is an approach to marry both the global statistics of matrix factorization techniques like LSA (Latent Semantic Analysis) with the local context-based learning in word2vec. Rather than using a window to define local context, GloVe constructs an explicit word-context or word co-occurrence matrix using statistics across the whole text corpus.\n",
    "\n",
    "Jeffrey Pennington, Richard Socher, and Christopher D. Manning. 2014. GloVe: Global Vectors for Word Representation. \n",
    "https://nlp.stanford.edu/pubs/glove.pdf"
   ]
  },
  {
   "cell_type": "markdown",
   "metadata": {},
   "source": [
    "### Loading a pre-trained word embedding: GloVe\n",
    "\n",
    "Rather than training our own word vectors from scratch, we will leverage on GloVe. GloVe is an unsupervised learning algorithm for obtaining vector representations for words. Training is performed on aggregated global word-word co-occurrence statistics from a corpus, and the resulting representations showcase interesting linear substructures of the word vector space.\n",
    "\n",
    "We will use “Wikipedia 2014 + Gigaword 5” which is the smallest file (“ glove.6B.zip”) with 822 MB. It was trained on a corpus of 6 billion tokens and contains a vocabulary of 400 thousand tokens.This data is made available under the Public Domain Dedication and License v1.0 whose full text can be found at: http://www.opendatacommons.org/licenses/pddl/1.0/\n",
    "\n",
    "After unzipping the downloaded file we find four txt files: glove.6B.50d.txt, glove.6B.100d.txt, glove.6B.200d.txt, glove.6B.300d.txt. As their filenames suggests, they have vectors with different dimensions. We pick the  one with words represented by vectors of dim 100 (“glove.6B.100d.txt”).\n"
   ]
  },
  {
   "cell_type": "markdown",
   "metadata": {},
   "source": [
    "So our vocabulary contains 400K words represented by a feature vector of shape 100. Now we can load the Glove embeddings in word2vec format and then analyze some analogies. In this way if we want to use a pre-trained word2vec embeddings we can simply change the filename and reuse all the code below."
   ]
  },
  {
   "cell_type": "markdown",
   "metadata": {},
   "source": [
    "### Applying the word embedding to a text for a NLP task\n",
    "\n",
    "Now, we have our word representation, a vector for every word in our vocabulary. But we need to deal with full sentences so we need to create a sentence embedding, basically we need a vector that represent the whole sentence and every feature in the vector will be based on the contained word embeddings. There are many posibilities and we are not going to cover this topic here, so we apply a very simple method: the ith value in the sentence embedding will be the mean of the ith values in the word embedding of all the words in the sentence. now we have a representation vector of the whole sentence.\n"
   ]
  },
  {
   "cell_type": "markdown",
   "metadata": {},
   "source": [
    "Create a Class that load the Glove embeddings and generates the word2vec (mapping words to embedding vector). The Class defines a function to transforme a list of sentences to a list of embeddings vectors"
   ]
  },
  {
   "cell_type": "code",
   "execution_count": 4,
   "metadata": {},
   "outputs": [],
   "source": [
    "class GloveVectorizer:\n",
    "  '''Class to store the vocabulary of our texts, including mappings between words and its integer representation. \n",
    "     It also contain the embeddings of the vocab to transform every token or integer value\n",
    "  '''\n",
    "  def __init__(self, embedding_file):\n",
    "    ''' Build the embeddings, load them from a file and store it in a list of embedded vectors '''\n",
    "    # load in pre-trained word vectors\n",
    "    print('Loading word vectors...')\n",
    "    word2vec = {}\n",
    "    embedding = []\n",
    "    idx2word = []\n",
    "    with open(embedding_file) as f:\n",
    "      # is just a space-separated text file in the format:\n",
    "      # word vec[0] vec[1] vec[2] ...\n",
    "      for line in f:\n",
    "        values = line.split()\n",
    "        word = values[0]\n",
    "        vec = np.asarray(values[1:], dtype='float32')\n",
    "        word2vec[word] = vec\n",
    "        embedding.append(vec)\n",
    "        idx2word.append(word)\n",
    "    print('Found %s word vectors.' % len(word2vec))\n",
    "\n",
    "    # save for later\n",
    "    self.word2vec = word2vec\n",
    "    self.embedding = np.array(embedding)\n",
    "    self.word2idx = {v:k for k,v in enumerate(idx2word)}\n",
    "    self.V, self.D = self.embedding.shape\n",
    "\n",
    "  def fit(self, data):\n",
    "    pass\n",
    "\n",
    "  def transform(self, data):\n",
    "    ''' Include the tokens contained in the data in the vocabulary'''\n",
    "    X = np.zeros((len(data), self.D))\n",
    "    n = 0\n",
    "    emptycount = 0\n",
    "    # For every sentence in the data\n",
    "    for sentence in data:\n",
    "      tokens = sentence.lower().split() # Extract the words\n",
    "      vecs = []\n",
    "      # For every word in the setence\n",
    "      unknowns = 0\n",
    "      for word in tokens:\n",
    "        # Include the embedded word in the output list \n",
    "        if word in self.word2vec:\n",
    "          vec = self.word2vec[word]\n",
    "          vecs.append(vec)\n",
    "        else:\n",
    "          unknowns += 1  \n",
    "      # Calculate the embedding of a data as the mean of the embeddings of every word \n",
    "      if len(vecs) > 0:\n",
    "        vecs = np.array(vecs)\n",
    "        X[n] = vecs.mean(axis=0)\n",
    "      else:\n",
    "        emptycount += 1\n",
    "      n += 1\n",
    "    #print(\"Numer of samples with no words found: %s / %s\" % (emptycount, len(data)))\n",
    "    return X\n",
    "\n",
    "  def fit_transform(self, data):\n",
    "    self.fit(data)\n",
    "    return self.transform(data)\n"
   ]
  },
  {
   "cell_type": "markdown",
   "metadata": {},
   "source": [
    "The next cell defines some helper functions to create the summary for a given document"
   ]
  },
  {
   "cell_type": "code",
   "execution_count": 5,
   "metadata": {},
   "outputs": [],
   "source": [
    "def split_sentences(documents):\n",
    "    \"\"\"\n",
    "    Splits the documents into individual sentences.\n",
    "    Input:\n",
    "       - documents: list of string to split into sentences\n",
    "    Output:\n",
    "        - list of list of strings (sentence)\n",
    "    \"\"\"\n",
    "    docs_sentences=[]\n",
    "    n_docs = len(documents)\n",
    "    # For every document\n",
    "    for i in range(n_docs):\n",
    "        text = documents[i] # Extract the document\n",
    "        # Extract the sentences in the document\n",
    "        sentences = sent_tokenize(text)\n",
    "        #For every setence \n",
    "        for j in reversed(range(len(sentences))):\n",
    "            sent = sentences[j]\n",
    "            # Split the sentences into words\n",
    "            sentences[j] = sent.strip()\n",
    "            # If the sentence is empty remove from the document\n",
    "            if sent == '':\n",
    "                sentences.pop(j)\n",
    "        # Append the sentence to the document\n",
    "        docs_sentences.append(sentences)\n",
    "        \n",
    "    return docs_sentences\n",
    "\n",
    "def select_summary_sents(n_clusters, kmeans, emb_sentence, sentence):\n",
    "    ''' Select the sentences to be part of the summary\n",
    "        Input:\n",
    "            - n_clusters: int, number of clusters\n",
    "            - kmeans: sklearn kmeans model\n",
    "            - emb_sentence: list of float, embedding vector of the sentences\n",
    "            - sentences: list of string, the sentences in the document\n",
    "        Output:\n",
    "            - list of string, the sentences in the summary\n",
    "    '''\n",
    "    avg = []\n",
    "    # For every cluster calculate the mean vector representation\n",
    "    for j in range(n_clusters):\n",
    "        idx = np.where(kmeans.labels_ == j)[0]\n",
    "        avg.append(np.mean(idx))\n",
    "        \n",
    "    # Calculate the closest sentence to every cluster center \n",
    "    closest, _ = pairwise_distances_argmin_min(kmeans.cluster_centers_, emb_sentence)\n",
    "    # order the sentences by its positions in their corresponding clusters in the original document\n",
    "    ordering = sorted(range(n_clusters), key=lambda k: avg[k])\n",
    "    # Create the summary as the sentence previously ordered\n",
    "    summary = [sentence[closest[idx]] for idx in ordering]\n",
    "    return summary\n",
    "\n",
    "def generate_summaries(list_sentences, embedding_vectors, desired_k=None):\n",
    "    ''' This is the main function, where the algorithm is applied. Create a summary for every document\n",
    "        in the list of sentences using the embedding vectors to transform word into numerical values.\n",
    "        \n",
    "        input:\n",
    "           - list_sentences: a list of list of string where very list of string are the sentences in a doc\n",
    "           - embedding_vectors: the embeddings used to map token or words into numerical vectors\n",
    "           - k: integer, number of clusters or sentences in the predcted summary\n",
    "        Output:\n",
    "           - n_clusters: the k value used for every doc in the kmeans algorithm\n",
    "           - summary_sentences: a list of list of string, the list of sentences in every summary\n",
    "    '''\n",
    "    # Initialize every output list\n",
    "    n_clusters=[]\n",
    "    summary_sentences=[]\n",
    "    #Lets create the summary for every document\n",
    "    for text in list_sentences:\n",
    "    #Generate the sentence embedding for every sentence in the text\n",
    "        emb_sentences = vectorizer.fit_transform(text)\n",
    "        if desired_k is None:\n",
    "        #The number of cluster is equal to squqre root of the number of sentences\n",
    "            k = int(np.ceil(len(emb_sentences)**0.5))\n",
    "        else:\n",
    "            k = desired_k\n",
    "            \n",
    "    # Apply Kmeans clustering to thr sentences in the document\n",
    "        kmeans = KMeans(n_clusters=k, random_state=0)\n",
    "        kmeans = kmeans.fit(emb_sentences)\n",
    "    # Select the sentence appropiate in every cluster discovered\n",
    "        sentences = select_summary_sents(k, kmeans, emb_sentences, text)\n",
    "        n_clusters.append(k)\n",
    "        summary_sentences.append(sentences)\n",
    "        \n",
    "    return n_clusters, summary_sentences\n",
    "  "
   ]
  },
  {
   "cell_type": "markdown",
   "metadata": {},
   "source": [
    "Show some examples"
   ]
  },
  {
   "cell_type": "code",
   "execution_count": 6,
   "metadata": {},
   "outputs": [
    {
     "data": {
      "text/plain": [
       "array(['samsung galaxy note fan waiting hear words note 7 sold india . despite bad whether went laid grave note 7 might come back dead company minimize losses environmental penalties incurred disposal close 3 million devices.update samsung denied plans sell refurbished galaxy note 7 units india . report samsung planning sell refurbished galaxy note 7 smartphone india incorrect said samsung india spokesperson without offering details . korean website hankyung reports galaxy note 7 due resurrection select places vietnam india probably south korea . samsung electronics finalise designs may year go sale june expected . several changes made phone.also read galaxy note 7 exploded due battery confirms samsung samsung initially announced recall 2.5 million note 7 phones september identified cause fire manufacturing process problem one suppliers new note 7s samsung said safe batteries different supplier continued catch fire.but complete recall indepth analysis cause make battery material way battery shaped fit chassis caused short circuit.now samsung redesigning battery chassis . battery said lower capacity 3000mah samsung redesigning chassis might support dual curved screen . called refurbished price expected considerably cheaper .',\n",
       "       'public works department pwd cleared proposal construction flyover erstwhile nh58 near raj nagar extension rne . nh58 denotified highway last year assigned district road pwd per state government notification june.due massive inflow traffic ghaziabadmeerut road erstwhile nh58 officials ghaziabad development authority gda proposed construction flyover also altered design making splittype flyover regional rapid transit system rrts corridor passes median road.we given clearance project gda . prepare service lane area also take care piped gas line passes area . make use additional land vicinity also remove encroachments . also reviewed traffic plan given permission thorough study said manish verma executive engineer pwd.we also checked rrts alignment also asked take permission agency concerned . clearance given review traffic regulation plan provision rrts alignment . also planning make road state highway send proposal government . volume traffic remained despite road denotified highway said.the proposed flyover spanning 538 metres pegged rs50 crore design changed combined sixlane threelane side splittype one . middle portion two lanes used rrts come elevated section like metro train system.the authority proposed flyover decongest city roads heavy volume traffic witnessed intersection.the design flyover approved rrts agency . flyover design report waiting vetted iit roorkee . state bridge corporation construction agency . design vetted flyover construction started . received clearances pwd project said chakresh jain executive engineer gda.the authority also proposed flyover vasundhara link road . officials said proposed design conflict rrts alignment pegged cost rs50 crore .'],\n",
       "      dtype=object)"
      ]
     },
     "execution_count": 6,
     "metadata": {},
     "output_type": "execute_result"
    }
   ],
   "source": [
    "train_df['text'].values[:2]"
   ]
  },
  {
   "cell_type": "markdown",
   "metadata": {},
   "source": [
    "### Main code where the model runs and predicts the summaries"
   ]
  },
  {
   "cell_type": "code",
   "execution_count": 7,
   "metadata": {},
   "outputs": [
    {
     "name": "stdout",
     "output_type": "stream",
     "text": [
      "Loading word vectors...\n",
      "Found 400000 word vectors.\n"
     ]
    }
   ],
   "source": [
    "#Load the Glove embeddings\n",
    "vectorizer = GloveVectorizer(glove_filename)\n",
    "# Set the number of sentences in the output summary, None to select sqrt(sentences in source text)\n",
    "k=1\n",
    "#Split every document in the train and validation dataset into a list of sentences\n",
    "train_df['list_sentences'] = split_sentences(train_df['text'].values)\n",
    "valid_df['list_sentences'] = split_sentences(valid_df['text'].values)\n",
    "\n",
    "#Lets create the summary for every document in the training dataset\n",
    "n_clusters, summary_sentences = generate_summaries(train_df['list_sentences'].values, vectorizer, k)\n",
    "#Store the values in the dataset\n",
    "train_df['n_clusters'] = n_clusters\n",
    "train_df['summary_sents'] = summary_sentences\n",
    "# Create the summary text\n",
    "train_df['pred_summary'] = [' '.join([sent for sent in sentences]) for sentences in summary_sentences]\n",
    "\n",
    "#Repeat the process in the validation dataset\n",
    "n_clusters, summary_sentences = generate_summaries(valid_df['list_sentences'].values, vectorizer, k)\n",
    "valid_df['n_clusters'] = n_clusters\n",
    "valid_df['summary_sents'] = summary_sentences\n",
    "valid_df['pred_summary'] = [' '.join([sent for sent in sentences]) for sentences in summary_sentences]\n"
   ]
  },
  {
   "cell_type": "code",
   "execution_count": 8,
   "metadata": {},
   "outputs": [
    {
     "data": {
      "text/html": [
       "<div>\n",
       "<style scoped>\n",
       "    .dataframe tbody tr th:only-of-type {\n",
       "        vertical-align: middle;\n",
       "    }\n",
       "\n",
       "    .dataframe tbody tr th {\n",
       "        vertical-align: top;\n",
       "    }\n",
       "\n",
       "    .dataframe thead th {\n",
       "        text-align: right;\n",
       "    }\n",
       "</style>\n",
       "<table border=\"1\" class=\"dataframe\">\n",
       "  <thead>\n",
       "    <tr style=\"text-align: right;\">\n",
       "      <th></th>\n",
       "      <th>summary</th>\n",
       "      <th>text</th>\n",
       "      <th>list_sentences</th>\n",
       "      <th>n_clusters</th>\n",
       "      <th>summary_sents</th>\n",
       "      <th>pred_summary</th>\n",
       "    </tr>\n",
       "  </thead>\n",
       "  <tbody>\n",
       "    <tr>\n",
       "      <th>0</th>\n",
       "      <td>south korean tech giant samsung refuted report...</td>\n",
       "      <td>samsung galaxy note fan waiting hear words not...</td>\n",
       "      <td>[samsung galaxy note fan waiting hear words no...</td>\n",
       "      <td>1</td>\n",
       "      <td>[several changes made phone.also read galaxy n...</td>\n",
       "      <td>several changes made phone.also read galaxy no...</td>\n",
       "    </tr>\n",
       "    <tr>\n",
       "      <th>1</th>\n",
       "      <td>public works department pwd approved construct...</td>\n",
       "      <td>public works department pwd cleared proposal c...</td>\n",
       "      <td>[public works department pwd cleared proposal ...</td>\n",
       "      <td>1</td>\n",
       "      <td>[nh58 denotified highway last year assigned di...</td>\n",
       "      <td>nh58 denotified highway last year assigned dis...</td>\n",
       "    </tr>\n",
       "    <tr>\n",
       "      <th>2</th>\n",
       "      <td>central board excise customs cbec friday annou...</td>\n",
       "      <td>new delhi jun 30 pti india transits new era ro...</td>\n",
       "      <td>[new delhi jun 30 pti india transits new era r...</td>\n",
       "      <td>1</td>\n",
       "      <td>[henceforth field offices chief commissioners ...</td>\n",
       "      <td>henceforth field offices chief commissioners o...</td>\n",
       "    </tr>\n",
       "    <tr>\n",
       "      <th>3</th>\n",
       "      <td>bomb squads canine teams rushed check package ...</td>\n",
       "      <td>new delhi aug 2 pti bomb squads canine teams t...</td>\n",
       "      <td>[new delhi aug 2 pti bomb squads canine teams ...</td>\n",
       "      <td>1</td>\n",
       "      <td>[new delhi aug 2 pti bomb squads canine teams ...</td>\n",
       "      <td>new delhi aug 2 pti bomb squads canine teams t...</td>\n",
       "    </tr>\n",
       "    <tr>\n",
       "      <th>4</th>\n",
       "      <td>indian spinner kuldeep yadav registered 468 de...</td>\n",
       "      <td>newcomer kuldeep yadav picked four wickets deb...</td>\n",
       "      <td>[newcomer kuldeep yadav picked four wickets de...</td>\n",
       "      <td>1</td>\n",
       "      <td>[learning warne getting countryman nice feelin...</td>\n",
       "      <td>learning warne getting countryman nice feeling...</td>\n",
       "    </tr>\n",
       "  </tbody>\n",
       "</table>\n",
       "</div>"
      ],
      "text/plain": [
       "                                             summary  \\\n",
       "0  south korean tech giant samsung refuted report...   \n",
       "1  public works department pwd approved construct...   \n",
       "2  central board excise customs cbec friday annou...   \n",
       "3  bomb squads canine teams rushed check package ...   \n",
       "4  indian spinner kuldeep yadav registered 468 de...   \n",
       "\n",
       "                                                text  \\\n",
       "0  samsung galaxy note fan waiting hear words not...   \n",
       "1  public works department pwd cleared proposal c...   \n",
       "2  new delhi jun 30 pti india transits new era ro...   \n",
       "3  new delhi aug 2 pti bomb squads canine teams t...   \n",
       "4  newcomer kuldeep yadav picked four wickets deb...   \n",
       "\n",
       "                                      list_sentences  n_clusters  \\\n",
       "0  [samsung galaxy note fan waiting hear words no...           1   \n",
       "1  [public works department pwd cleared proposal ...           1   \n",
       "2  [new delhi jun 30 pti india transits new era r...           1   \n",
       "3  [new delhi aug 2 pti bomb squads canine teams ...           1   \n",
       "4  [newcomer kuldeep yadav picked four wickets de...           1   \n",
       "\n",
       "                                       summary_sents  \\\n",
       "0  [several changes made phone.also read galaxy n...   \n",
       "1  [nh58 denotified highway last year assigned di...   \n",
       "2  [henceforth field offices chief commissioners ...   \n",
       "3  [new delhi aug 2 pti bomb squads canine teams ...   \n",
       "4  [learning warne getting countryman nice feelin...   \n",
       "\n",
       "                                        pred_summary  \n",
       "0  several changes made phone.also read galaxy no...  \n",
       "1  nh58 denotified highway last year assigned dis...  \n",
       "2  henceforth field offices chief commissioners o...  \n",
       "3  new delhi aug 2 pti bomb squads canine teams t...  \n",
       "4  learning warne getting countryman nice feeling...  "
      ]
     },
     "execution_count": 8,
     "metadata": {},
     "output_type": "execute_result"
    }
   ],
   "source": [
    "train_df.head(5)"
   ]
  },
  {
   "cell_type": "markdown",
   "metadata": {},
   "source": [
    "## Evaluating the results using ROUGE metrics \n",
    "\n",
    "To evaluate the model, we will use the ROUGE metric:\n",
    "*\"ROUGE, or Recall-Oriented Understudy for Gisting Evaluation, is a set of metrics and a software package used for evaluating automatic summarization and machine translation software in natural language processing. The metrics compare an automatically produced summary or translation against a reference or a set of references (human-produced) summary or translation.\".*\n",
    "\n",
    "This metric produces a value for recall (how much of the “real” summary is captured by the “predicted” summary) and precision (how much of the predicted summary is relevant). Both provide us a measure of how good our model output is. There are some variations of this metric: ROUGE-N, ROUGE-S and ROUGE-L For example, ROUGE-1 refers to overlap of unigrams between the system summary and reference summary. ROUGE-2 refers to the overlap of bigrams between the system and reference summaries.\n",
    "\n",
    "We will consider ROUGE-2 and ROUGE-L metrics, measure the benchmark model, and then compare the results of our both algorithms to get an evaluation score. But we are also going to show and compare the outputs “visually”, using the human readable  measure\n"
   ]
  },
  {
   "cell_type": "markdown",
   "metadata": {},
   "source": [
    "Lets create some helper functions"
   ]
  },
  {
   "cell_type": "code",
   "execution_count": 9,
   "metadata": {},
   "outputs": [],
   "source": [
    "def eval_metrics(preds, targets, avg=True):\n",
    "    ''' Evaluate the ROUGE metrics ROUGE-2 and ROUGE-L for every pair predicted summary - target summary\n",
    "    \n",
    "        Input:\n",
    "           - preds: list of strings, predicted summaries\n",
    "           - targets: list of string, target summaries\n",
    "        Output:\n",
    "            - rouge2_f_metric: list of float, the Rouge-2 fscore for every predicted summary\n",
    "            - rougel_f_metric: list of float, the Rouge-L fscore for every predicted summary\n",
    "    '''\n",
    "    #Lets calculate the rouge metrics for every document\n",
    "    rouge = Rouge()\n",
    "    scores = rouge.get_scores(preds, targets, avg)\n",
    "    # Create the output variables\n",
    "    if avg:\n",
    "        rouge2_f_metric = scores['rouge-2']['f']\n",
    "        rouge2_p_metric = scores['rouge-2']['p']\n",
    "        rouge2_r_metric = scores['rouge-2']['r']\n",
    "        rougel_f_metric = scores['rouge-l']['f']\n",
    "        rougel_p_metric = scores['rouge-l']['p']\n",
    "        rougel_r_metric = scores['rouge-l']['r']\n",
    "    else:\n",
    "        rouge2_f_metric = [score['rouge-2']['f'] for score in scores]\n",
    "        rouge2_p_metric = [score['rouge-2']['p'] for score in scores]\n",
    "        rouge2_r_metric = [score['rouge-2']['r'] for score in scores]\n",
    "        rougel_f_metric = [score['rouge-l']['f'] for score in scores]\n",
    "        rougel_p_metric = [score['rouge-l']['p'] for score in scores]\n",
    "        rougel_r_metric = [score['rouge-l']['r'] for score in scores]\n",
    "\n",
    "       \n",
    "    \n",
    "    return rouge2_f_metric, rouge2_p_metric, rouge2_r_metric, rougel_f_metric, rougel_p_metric, rougel_r_metric\n",
    "\n",
    "def save_to_df(text, labeled_summaries, predicted_summaries, r2_f, r2_p, r2_r, rl_f, rl_p, rl_r):\n",
    "    ''' Stores the metric results into a pandas dataframe'''\n",
    "    results = pd.DataFrame(columns=['text', 'summary','pred_summary','rouge2-f','rouge2-p','rouge2-r','rougel-f', 'rougel-p', 'rougel-r'])\n",
    "    results['text'] = text\n",
    "    results['summary'] = labeled_summaries\n",
    "    results['pred_summary'] = predicted_summaries\n",
    "    results['rouge2-f'] = r2_f\n",
    "    results['rouge2-p'] = r2_p\n",
    "    results['rouge2-r'] = r2_r\n",
    "    results['rougel-f'] = rl_f\n",
    "    results['rougel-p'] = rl_p\n",
    "    results['rougel-r'] = rl_r\n",
    "\n",
    "    return results"
   ]
  },
  {
   "cell_type": "markdown",
   "metadata": {},
   "source": [
    "Define a variable for the prediced summaries and the target"
   ]
  },
  {
   "cell_type": "code",
   "execution_count": 10,
   "metadata": {},
   "outputs": [],
   "source": [
    "#Create the list of predicted summaries\n",
    "predicted_summaries = list(train_df['pred_summary'].values)\n",
    "#Create the list of targeted summaries\n",
    "labeled_summaries = list(train_df['summary'].values)"
   ]
  },
  {
   "cell_type": "markdown",
   "metadata": {},
   "source": [
    "The previous method returns the mean for every metric in the dataset, but we want to calculate the value for every example so we can dive deeper in the results "
   ]
  },
  {
   "cell_type": "code",
   "execution_count": 11,
   "metadata": {},
   "outputs": [
    {
     "name": "stdout",
     "output_type": "stream",
     "text": [
      "Mean Rouge-2 FScore:  0.12023985495294241 Mean Rouge-L FScore:  0.2561037523883909\n"
     ]
    }
   ],
   "source": [
    "r2_f, r2_p, r2_r, rl_f, rl_p, rl_r = eval_metrics(predicted_summaries, labeled_summaries, False)\n",
    "print('Mean Rouge-2 FScore: ',np.mean(r2_f), 'Mean Rouge-L FScore: ',np.mean(rl_f))"
   ]
  },
  {
   "cell_type": "code",
   "execution_count": 12,
   "metadata": {},
   "outputs": [
    {
     "data": {
      "text/html": [
       "<div>\n",
       "<style scoped>\n",
       "    .dataframe tbody tr th:only-of-type {\n",
       "        vertical-align: middle;\n",
       "    }\n",
       "\n",
       "    .dataframe tbody tr th {\n",
       "        vertical-align: top;\n",
       "    }\n",
       "\n",
       "    .dataframe thead th {\n",
       "        text-align: right;\n",
       "    }\n",
       "</style>\n",
       "<table border=\"1\" class=\"dataframe\">\n",
       "  <thead>\n",
       "    <tr style=\"text-align: right;\">\n",
       "      <th></th>\n",
       "      <th>text</th>\n",
       "      <th>summary</th>\n",
       "      <th>pred_summary</th>\n",
       "      <th>rouge2-f</th>\n",
       "      <th>rouge2-p</th>\n",
       "      <th>rouge2-r</th>\n",
       "      <th>rougel-f</th>\n",
       "      <th>rougel-p</th>\n",
       "      <th>rougel-r</th>\n",
       "    </tr>\n",
       "  </thead>\n",
       "  <tbody>\n",
       "    <tr>\n",
       "      <th>0</th>\n",
       "      <td>samsung galaxy note fan waiting hear words not...</td>\n",
       "      <td>south korean tech giant samsung refuted report...</td>\n",
       "      <td>several changes made phone.also read galaxy no...</td>\n",
       "      <td>0.057692</td>\n",
       "      <td>0.045455</td>\n",
       "      <td>0.078947</td>\n",
       "      <td>0.139535</td>\n",
       "      <td>0.111111</td>\n",
       "      <td>0.187500</td>\n",
       "    </tr>\n",
       "    <tr>\n",
       "      <th>1</th>\n",
       "      <td>public works department pwd cleared proposal c...</td>\n",
       "      <td>public works department pwd approved construct...</td>\n",
       "      <td>nh58 denotified highway last year assigned dis...</td>\n",
       "      <td>0.119048</td>\n",
       "      <td>0.102041</td>\n",
       "      <td>0.142857</td>\n",
       "      <td>0.205128</td>\n",
       "      <td>0.177778</td>\n",
       "      <td>0.242424</td>\n",
       "    </tr>\n",
       "    <tr>\n",
       "      <th>2</th>\n",
       "      <td>new delhi jun 30 pti india transits new era ro...</td>\n",
       "      <td>central board excise customs cbec friday annou...</td>\n",
       "      <td>henceforth field offices chief commissioners o...</td>\n",
       "      <td>0.000000</td>\n",
       "      <td>0.000000</td>\n",
       "      <td>0.000000</td>\n",
       "      <td>0.162162</td>\n",
       "      <td>0.200000</td>\n",
       "      <td>0.136364</td>\n",
       "    </tr>\n",
       "    <tr>\n",
       "      <th>3</th>\n",
       "      <td>new delhi aug 2 pti bomb squads canine teams t...</td>\n",
       "      <td>bomb squads canine teams rushed check package ...</td>\n",
       "      <td>new delhi aug 2 pti bomb squads canine teams t...</td>\n",
       "      <td>0.295082</td>\n",
       "      <td>0.321429</td>\n",
       "      <td>0.272727</td>\n",
       "      <td>0.524590</td>\n",
       "      <td>0.551724</td>\n",
       "      <td>0.500000</td>\n",
       "    </tr>\n",
       "    <tr>\n",
       "      <th>4</th>\n",
       "      <td>newcomer kuldeep yadav picked four wickets deb...</td>\n",
       "      <td>indian spinner kuldeep yadav registered 468 de...</td>\n",
       "      <td>learning warne getting countryman nice feeling...</td>\n",
       "      <td>0.000000</td>\n",
       "      <td>0.000000</td>\n",
       "      <td>0.000000</td>\n",
       "      <td>0.064516</td>\n",
       "      <td>0.076923</td>\n",
       "      <td>0.055556</td>\n",
       "    </tr>\n",
       "  </tbody>\n",
       "</table>\n",
       "</div>"
      ],
      "text/plain": [
       "                                                text  \\\n",
       "0  samsung galaxy note fan waiting hear words not...   \n",
       "1  public works department pwd cleared proposal c...   \n",
       "2  new delhi jun 30 pti india transits new era ro...   \n",
       "3  new delhi aug 2 pti bomb squads canine teams t...   \n",
       "4  newcomer kuldeep yadav picked four wickets deb...   \n",
       "\n",
       "                                             summary  \\\n",
       "0  south korean tech giant samsung refuted report...   \n",
       "1  public works department pwd approved construct...   \n",
       "2  central board excise customs cbec friday annou...   \n",
       "3  bomb squads canine teams rushed check package ...   \n",
       "4  indian spinner kuldeep yadav registered 468 de...   \n",
       "\n",
       "                                        pred_summary  rouge2-f  rouge2-p  \\\n",
       "0  several changes made phone.also read galaxy no...  0.057692  0.045455   \n",
       "1  nh58 denotified highway last year assigned dis...  0.119048  0.102041   \n",
       "2  henceforth field offices chief commissioners o...  0.000000  0.000000   \n",
       "3  new delhi aug 2 pti bomb squads canine teams t...  0.295082  0.321429   \n",
       "4  learning warne getting countryman nice feeling...  0.000000  0.000000   \n",
       "\n",
       "   rouge2-r  rougel-f  rougel-p  rougel-r  \n",
       "0  0.078947  0.139535  0.111111  0.187500  \n",
       "1  0.142857  0.205128  0.177778  0.242424  \n",
       "2  0.000000  0.162162  0.200000  0.136364  \n",
       "3  0.272727  0.524590  0.551724  0.500000  \n",
       "4  0.000000  0.064516  0.076923  0.055556  "
      ]
     },
     "execution_count": 12,
     "metadata": {},
     "output_type": "execute_result"
    }
   ],
   "source": [
    "train_results = save_to_df(train_df['text'].values, labeled_summaries, predicted_summaries, r2_f, r2_p, r2_r, rl_f, rl_p, rl_r)\n",
    "train_results.to_csv(output_train_filename, index=False)\n",
    "train_results.head(5)"
   ]
  },
  {
   "cell_type": "markdown",
   "metadata": {},
   "source": [
    "### Evaluate the algorithm on the validation dataset\n",
    "\n",
    "Now we repeat the proccess on the validation dataset"
   ]
  },
  {
   "cell_type": "code",
   "execution_count": 13,
   "metadata": {},
   "outputs": [
    {
     "name": "stdout",
     "output_type": "stream",
     "text": [
      "Mean Rouge-2 FScore:  0.12023985495294241 Mean Rouge-L FScore:  0.2561037523883909\n"
     ]
    },
    {
     "data": {
      "text/html": [
       "<div>\n",
       "<style scoped>\n",
       "    .dataframe tbody tr th:only-of-type {\n",
       "        vertical-align: middle;\n",
       "    }\n",
       "\n",
       "    .dataframe tbody tr th {\n",
       "        vertical-align: top;\n",
       "    }\n",
       "\n",
       "    .dataframe thead th {\n",
       "        text-align: right;\n",
       "    }\n",
       "</style>\n",
       "<table border=\"1\" class=\"dataframe\">\n",
       "  <thead>\n",
       "    <tr style=\"text-align: right;\">\n",
       "      <th></th>\n",
       "      <th>text</th>\n",
       "      <th>summary</th>\n",
       "      <th>pred_summary</th>\n",
       "      <th>rouge2-f</th>\n",
       "      <th>rouge2-p</th>\n",
       "      <th>rouge2-r</th>\n",
       "      <th>rougel-f</th>\n",
       "      <th>rougel-p</th>\n",
       "      <th>rougel-r</th>\n",
       "    </tr>\n",
       "  </thead>\n",
       "  <tbody>\n",
       "    <tr>\n",
       "      <th>0</th>\n",
       "      <td>samsung galaxy note fan waiting hear words not...</td>\n",
       "      <td>south korean tech giant samsung refuted report...</td>\n",
       "      <td>several changes made phone.also read galaxy no...</td>\n",
       "      <td>0.057692</td>\n",
       "      <td>0.045455</td>\n",
       "      <td>0.078947</td>\n",
       "      <td>0.139535</td>\n",
       "      <td>0.111111</td>\n",
       "      <td>0.187500</td>\n",
       "    </tr>\n",
       "    <tr>\n",
       "      <th>1</th>\n",
       "      <td>public works department pwd cleared proposal c...</td>\n",
       "      <td>public works department pwd approved construct...</td>\n",
       "      <td>nh58 denotified highway last year assigned dis...</td>\n",
       "      <td>0.119048</td>\n",
       "      <td>0.102041</td>\n",
       "      <td>0.142857</td>\n",
       "      <td>0.205128</td>\n",
       "      <td>0.177778</td>\n",
       "      <td>0.242424</td>\n",
       "    </tr>\n",
       "    <tr>\n",
       "      <th>2</th>\n",
       "      <td>new delhi jun 30 pti india transits new era ro...</td>\n",
       "      <td>central board excise customs cbec friday annou...</td>\n",
       "      <td>henceforth field offices chief commissioners o...</td>\n",
       "      <td>0.000000</td>\n",
       "      <td>0.000000</td>\n",
       "      <td>0.000000</td>\n",
       "      <td>0.162162</td>\n",
       "      <td>0.200000</td>\n",
       "      <td>0.136364</td>\n",
       "    </tr>\n",
       "    <tr>\n",
       "      <th>3</th>\n",
       "      <td>new delhi aug 2 pti bomb squads canine teams t...</td>\n",
       "      <td>bomb squads canine teams rushed check package ...</td>\n",
       "      <td>new delhi aug 2 pti bomb squads canine teams t...</td>\n",
       "      <td>0.295082</td>\n",
       "      <td>0.321429</td>\n",
       "      <td>0.272727</td>\n",
       "      <td>0.524590</td>\n",
       "      <td>0.551724</td>\n",
       "      <td>0.500000</td>\n",
       "    </tr>\n",
       "    <tr>\n",
       "      <th>4</th>\n",
       "      <td>newcomer kuldeep yadav picked four wickets deb...</td>\n",
       "      <td>indian spinner kuldeep yadav registered 468 de...</td>\n",
       "      <td>learning warne getting countryman nice feeling...</td>\n",
       "      <td>0.000000</td>\n",
       "      <td>0.000000</td>\n",
       "      <td>0.000000</td>\n",
       "      <td>0.064516</td>\n",
       "      <td>0.076923</td>\n",
       "      <td>0.055556</td>\n",
       "    </tr>\n",
       "  </tbody>\n",
       "</table>\n",
       "</div>"
      ],
      "text/plain": [
       "                                                text  \\\n",
       "0  samsung galaxy note fan waiting hear words not...   \n",
       "1  public works department pwd cleared proposal c...   \n",
       "2  new delhi jun 30 pti india transits new era ro...   \n",
       "3  new delhi aug 2 pti bomb squads canine teams t...   \n",
       "4  newcomer kuldeep yadav picked four wickets deb...   \n",
       "\n",
       "                                             summary  \\\n",
       "0  south korean tech giant samsung refuted report...   \n",
       "1  public works department pwd approved construct...   \n",
       "2  central board excise customs cbec friday annou...   \n",
       "3  bomb squads canine teams rushed check package ...   \n",
       "4  indian spinner kuldeep yadav registered 468 de...   \n",
       "\n",
       "                                        pred_summary  rouge2-f  rouge2-p  \\\n",
       "0  several changes made phone.also read galaxy no...  0.057692  0.045455   \n",
       "1  nh58 denotified highway last year assigned dis...  0.119048  0.102041   \n",
       "2  henceforth field offices chief commissioners o...  0.000000  0.000000   \n",
       "3  new delhi aug 2 pti bomb squads canine teams t...  0.295082  0.321429   \n",
       "4  learning warne getting countryman nice feeling...  0.000000  0.000000   \n",
       "\n",
       "   rouge2-r  rougel-f  rougel-p  rougel-r  \n",
       "0  0.078947  0.139535  0.111111  0.187500  \n",
       "1  0.142857  0.205128  0.177778  0.242424  \n",
       "2  0.000000  0.162162  0.200000  0.136364  \n",
       "3  0.272727  0.524590  0.551724  0.500000  \n",
       "4  0.000000  0.064516  0.076923  0.055556  "
      ]
     },
     "execution_count": 13,
     "metadata": {},
     "output_type": "execute_result"
    }
   ],
   "source": [
    "#Create the list of predicted summaries\n",
    "predicted_summaries = list(valid_df['pred_summary'].values)\n",
    "#Create the list of targeted summaries\n",
    "labeled_summaries = list(valid_df['summary'].values)\n",
    "#Calculate the Rouge-2 and Rouge-L metrics for every example in the training dataset \n",
    "r2_f, r2_p, r2_r, rl_f, rl_p, rl_r = eval_metrics(predicted_summaries, labeled_summaries, False)\n",
    "print('Mean Rouge-2 FScore: ',np.mean(r2_f), 'Mean Rouge-L FScore: ',np.mean(rl_f))\n",
    "#Store the values in columns in the dataframe\n",
    "valid_results = save_to_df(valid_df['text'].values, labeled_summaries, predicted_summaries, r2_f, r2_p, r2_r, rl_f, rl_p, rl_r)\n",
    "valid_results.to_csv(output_valid_filename, index=False)\n",
    "valid_results.head(5)"
   ]
  },
  {
   "cell_type": "markdown",
   "metadata": {},
   "source": [
    "## Visualization of results"
   ]
  },
  {
   "cell_type": "markdown",
   "metadata": {},
   "source": [
    "Plotting the distribution of the Rouge-2 and Rouge-L values in the training data"
   ]
  },
  {
   "cell_type": "code",
   "execution_count": 14,
   "metadata": {},
   "outputs": [
    {
     "data": {
      "text/plain": [
       "<matplotlib.axes._subplots.AxesSubplot at 0x7f47ac463810>"
      ]
     },
     "execution_count": 14,
     "metadata": {},
     "output_type": "execute_result"
    },
    {
     "data": {
      "image/png": "[encoded data removed]",
      "text/plain": [
       "<Figure size 1000x500 with 2 Axes>"
      ]
     },
     "metadata": {
      "needs_background": "light"
     },
     "output_type": "display_data"
    }
   ],
   "source": [
    "# Define the arguments for plotting\n",
    "kwargs = dict(hist_kws={'alpha':.7}, kde_kws={'linewidth':2})\n",
    "# Plot a histogram\n",
    "fig, axes = plt.subplots(1, 2, figsize=(10, 5), sharey=False, dpi=100)\n",
    "sns.distplot(train_results['rouge2-f'] , color=\"dodgerblue\", ax=axes[0], axlabel='Rouge-2 Fscore')\n",
    "sns.distplot(train_results['rougel-f'], color=\"deeppink\", ax=axes[1], axlabel='Rouge-L Fscore')"
   ]
  },
  {
   "cell_type": "markdown",
   "metadata": {},
   "source": [
    "Plotting the distribution of the metric values in the validation data"
   ]
  },
  {
   "cell_type": "code",
   "execution_count": 15,
   "metadata": {},
   "outputs": [
    {
     "data": {
      "text/plain": [
       "<matplotlib.axes._subplots.AxesSubplot at 0x7f47ac6d2210>"
      ]
     },
     "execution_count": 15,
     "metadata": {},
     "output_type": "execute_result"
    },
    {
     "data": {
      "image/png": "[encoded data removed]",
      "text/plain": [
       "<Figure size 1000x500 with 2 Axes>"
      ]
     },
     "metadata": {
      "needs_background": "light"
     },
     "output_type": "display_data"
    }
   ],
   "source": [
    "# Define the arguments for plotting\n",
    "kwargs = dict(hist_kws={'alpha':.7}, kde_kws={'linewidth':2})\n",
    "# Plot a histogram\n",
    "fig, axes = plt.subplots(1, 2, figsize=(10, 5), sharey=False, dpi=100)\n",
    "sns.distplot(valid_results['rouge2-f'] , color=\"dodgerblue\", ax=axes[0], axlabel='Rouge-2 Fscore')\n",
    "sns.distplot(valid_results['rougel-f'], color=\"deeppink\", ax=axes[1], axlabel='Rouge-L Fscore')"
   ]
  },
  {
   "cell_type": "code",
   "execution_count": null,
   "metadata": {},
   "outputs": [],
   "source": []
  }
 ],
 "metadata": {
  "environment": {
   "name": "pytorch-gpu.1-4.m46",
   "type": "gcloud",
   "uri": "gcr.io/deeplearning-platform-release/pytorch-gpu.1-4:m46"
  },
  "kernelspec": {
   "display_name": "Python 3",
   "language": "python",
   "name": "python3"
  },
  "language_info": {
   "codemirror_mode": {
    "name": "ipython",
    "version": 3
   },
   "file_extension": ".py",
   "mimetype": "text/x-python",
   "name": "python",
   "nbconvert_exporter": "python",
   "pygments_lexer": "ipython3",
   "version": "3.7.6"
  }
 },
 "nbformat": 4,
 "nbformat_minor": 4
}
