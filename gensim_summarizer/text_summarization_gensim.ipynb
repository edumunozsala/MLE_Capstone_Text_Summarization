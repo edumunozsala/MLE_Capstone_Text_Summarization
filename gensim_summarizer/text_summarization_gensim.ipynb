{
 "cells": [
  {
   "cell_type": "markdown",
   "metadata": {},
   "source": [
    "## Text Summarization using the Gensim summarizer module\n",
    "\n",
    "This is a simple method to tackle the problem of text summarization, it is an extractive approach which select sentences from the corpus that best represent it and arrange them to form a summary. *Extractive summary extract the important and meaningful sentences from the original text and placing them into summary without any changes* [1].\n",
    "As described in an excellent paper about extractive summarization, cited in the references section: \n",
    "\n",
    "*Extractive techniques generally generate summaries through 3 phases or it essentially based on them. These phases are preprocessing step,\n",
    "processing step and generation step:\n",
    "1) Preprocessing step: the representation space dimensionality of the original text is reduced to involve a new structure representation. It usually includes:\n",
    "\n",
    "    a. Stop-word elimination: Common words without semantics that do not collect information relevant to the task (for example, \"the\", \"a\", \"an\", \"in\") are eliminated.\n",
    "    \n",
    "    b. Steaming: Acquire the stem of each word by bringing the word to its base form.\n",
    "    \n",
    "    c. Part of speech tagging: The process of identifying and classifying words of the text on the basis of part of speech category they belong (nouns, verbs, adverbs, adjectives).\n",
    "    \n",
    "2) Processing step: It uses an algorithm with the help of features generated in the preprocessing step to convert the text structure to the summary structure. In which, the sentences are scored.\n",
    "\n",
    "3) Generation step: sentences are ranked. Then, it pick up the most important sentences from the ranked structure to generate the final required summary.*\n",
    "\n",
    "These techniques are very popular in the industry as they are very easy to implement. They use existing natural language phrases and are reasonably accurate. And they are very fast since they are an unsupervised algorithm, so they do not have to calculate loss function in every step.\n"
   ]
  },
  {
   "cell_type": "markdown",
   "metadata": {},
   "source": [
    "### Installing and importing the libraries"
   ]
  },
  {
   "cell_type": "code",
   "execution_count": null,
   "metadata": {},
   "outputs": [],
   "source": [
    "#Install the gensim package for the first time only\n",
    "#!pip install gensim"
   ]
  },
  {
   "cell_type": "markdown",
   "metadata": {},
   "source": [
    "I will use the rouge library to calculate the ROUGE metrics to evaluate the results.This library is independant from the \"official\" ROUGE script (aka. ROUGE-155) and results may be slighlty different,but it is very easy to use.\n"
   ]
  },
  {
   "cell_type": "code",
   "execution_count": 70,
   "metadata": {},
   "outputs": [
    {
     "name": "stdout",
     "output_type": "stream",
     "text": [
      "Collecting rouge\n",
      "  Downloading rouge-1.0.0-py3-none-any.whl (14 kB)\n",
      "Requirement already satisfied: six in /opt/conda/lib/python3.7/site-packages (from rouge) (1.14.0)\n",
      "Installing collected packages: rouge\n",
      "Successfully installed rouge-1.0.0\n"
     ]
    }
   ],
   "source": [
    "#!pip install rouge"
   ]
  },
  {
   "cell_type": "code",
   "execution_count": 1,
   "metadata": {},
   "outputs": [],
   "source": [
    "# Import the utils and libraries\n",
    "import pandas as pd\n",
    "import numpy as np\n",
    "import random\n",
    "import os\n",
    "# Import libraries to plot results\n",
    "import matplotlib.pyplot as plt\n",
    "import seaborn as sns\n",
    "%matplotlib inline\n",
    "\n",
    "#Load the gensim modules\n",
    "from gensim.summarization import summarize\n",
    "from gensim.summarization import keywords\n",
    "from gensim.summarization.textcleaner import split_sentences\n",
    "from gensim.summarization import summarizer\n",
    "\n",
    "#Module for splitting the dsataset\n",
    "from sklearn.model_selection import train_test_split\n",
    "#Import library to calculate the evaluation metric\n",
    "from rouge import Rouge\n"
   ]
  },
  {
   "cell_type": "markdown",
   "metadata": {},
   "source": [
    "Define some global variables"
   ]
  },
  {
   "cell_type": "code",
   "execution_count": 2,
   "metadata": {},
   "outputs": [],
   "source": [
    "# Define the data path for input and output data\n",
    "data_path='MLE_Capstone_Text_Summarization/data'\n",
    "output_path='MLE_Capstone_Text_Summarization/data'\n",
    "\n",
    "# Define the train and validation datafiles\n",
    "traindata_file= 'cl_train_news_summary.csv'\n",
    "validdata_file= 'cl_valid_news_summary.csv'\n",
    "train_filename = os.path.join(data_path, traindata_file)\n",
    "valid_filename = os.path.join(data_path, validdata_file)\n",
    "\n",
    "# Set the output data path and filenames for the train and validation datasets  \n",
    "train_results='gensim_output_'+traindata_file\n",
    "valid_results='gensim_output_'+validdata_file\n",
    "train_results_filename = os.path.join(output_path, train_results)\n",
    "valid_results_filename = os.path.join(output_path, valid_results)\n",
    "\n",
    "# Set the desire length for the summarize to produce\n",
    "# This variables can be adjusted depending on the legnth of the source text and the length of the desired summary.\n",
    "summary_length = 0.2"
   ]
  },
  {
   "cell_type": "markdown",
   "metadata": {},
   "source": [
    "### Load the dataset"
   ]
  },
  {
   "cell_type": "code",
   "execution_count": null,
   "metadata": {},
   "outputs": [],
   "source": [
    "# Run only when new datafiles have been stored in GS\n",
    "#%%bash\n",
    "#gsutil cp gs://mlend_bucket/data/news_summary/news_summary_more.csv ../data/"
   ]
  },
  {
   "cell_type": "markdown",
   "metadata": {},
   "source": [
    "Removing the examples with null values or duplicates"
   ]
  },
  {
   "cell_type": "code",
   "execution_count": 3,
   "metadata": {},
   "outputs": [],
   "source": [
    "def clean_dataframe(df):\n",
    "    ''' Clean the dataframe removing duplicate rows, rows with null values and rename the columns'''\n",
    "    #Drop duplicate rows\n",
    "    df.drop_duplicates(subset=[\"text\"],inplace=True)\n",
    "    #Drop rows with null values in the text variable\n",
    "    df.dropna(inplace=True)\n",
    "    df.reset_index(drop=True,inplace=True)\n",
    "    # we are using the text variable as the summary and the ctext as the source text\n",
    "    df.columns = ['summary','text']\n",
    "    \n",
    "    return df"
   ]
  },
  {
   "cell_type": "code",
   "execution_count": 4,
   "metadata": {},
   "outputs": [
    {
     "data": {
      "text/html": [
       "<div>\n",
       "<style scoped>\n",
       "    .dataframe tbody tr th:only-of-type {\n",
       "        vertical-align: middle;\n",
       "    }\n",
       "\n",
       "    .dataframe tbody tr th {\n",
       "        vertical-align: top;\n",
       "    }\n",
       "\n",
       "    .dataframe thead th {\n",
       "        text-align: right;\n",
       "    }\n",
       "</style>\n",
       "<table border=\"1\" class=\"dataframe\">\n",
       "  <thead>\n",
       "    <tr style=\"text-align: right;\">\n",
       "      <th></th>\n",
       "      <th>summary</th>\n",
       "      <th>text</th>\n",
       "    </tr>\n",
       "  </thead>\n",
       "  <tbody>\n",
       "    <tr>\n",
       "      <th>0</th>\n",
       "      <td>amid reports mass layoffs former infosys cfo v...</td>\n",
       "      <td>hyderabad may 30 pti employees unions needed i...</td>\n",
       "    </tr>\n",
       "    <tr>\n",
       "      <th>1</th>\n",
       "      <td>following demise aiadmk supremo j jayalalithaa...</td>\n",
       "      <td>demise aiadmks permanent general secretary j j...</td>\n",
       "    </tr>\n",
       "    <tr>\n",
       "      <th>2</th>\n",
       "      <td>british government must hold vote houses parli...</td>\n",
       "      <td>government lost fasttracked appeal supreme cou...</td>\n",
       "    </tr>\n",
       "    <tr>\n",
       "      <th>3</th>\n",
       "      <td>leader political party puthiya tamizhagam thre...</td>\n",
       "      <td>kamal haasan bigg boss tamil involved yet anot...</td>\n",
       "    </tr>\n",
       "    <tr>\n",
       "      <th>4</th>\n",
       "      <td>journalists barred access wife recently deceas...</td>\n",
       "      <td>chinese authorities claim liu xia free woman ....</td>\n",
       "    </tr>\n",
       "  </tbody>\n",
       "</table>\n",
       "</div>"
      ],
      "text/plain": [
       "                                             summary  \\\n",
       "0  amid reports mass layoffs former infosys cfo v...   \n",
       "1  following demise aiadmk supremo j jayalalithaa...   \n",
       "2  british government must hold vote houses parli...   \n",
       "3  leader political party puthiya tamizhagam thre...   \n",
       "4  journalists barred access wife recently deceas...   \n",
       "\n",
       "                                                text  \n",
       "0  hyderabad may 30 pti employees unions needed i...  \n",
       "1  demise aiadmks permanent general secretary j j...  \n",
       "2  government lost fasttracked appeal supreme cou...  \n",
       "3  kamal haasan bigg boss tamil involved yet anot...  \n",
       "4  chinese authorities claim liu xia free woman ....  "
      ]
     },
     "execution_count": 4,
     "metadata": {},
     "output_type": "execute_result"
    }
   ],
   "source": [
    "#Load the train dataset into a pandas dataframe\n",
    "train_df = pd.read_csv(train_filename, encoding='utf-8')\n",
    "train_df.head(5)\n",
    "#Load the validation dataset into a pandas dataframe\n",
    "valid_df = pd.read_csv(valid_filename, encoding='utf-8')\n",
    "# Clean the dataframes\n",
    "train_df = clean_dataframe(train_df)\n",
    "valid_df = clean_dataframe(valid_df)\n",
    "\n",
    "valid_df.head(5)"
   ]
  },
  {
   "cell_type": "markdown",
   "metadata": {},
   "source": [
    "## Build the summarizer with gensim\n",
    "\n",
    "This method consist in invoke the module *summarize* from the gensim library, seting the summary length as the ratio of sentences from the source text we want in the summary."
   ]
  },
  {
   "cell_type": "code",
   "execution_count": 5,
   "metadata": {},
   "outputs": [],
   "source": [
    "#Set the desire length for the summarize to produce\n",
    "# This variables can be adjusted depending on the legnth of the source text and the length of the desired summary.\n",
    "summary_length = 0.2"
   ]
  },
  {
   "cell_type": "code",
   "execution_count": 6,
   "metadata": {},
   "outputs": [],
   "source": [
    "def generate_summary(data_text, ratio):\n",
    "    ''' Generate a summary for every element in the data_text using the\n",
    "        gensim summarizer method.\n",
    "        \n",
    "        Input:\n",
    "           - data_text: list of strings to summarize\n",
    "           - summary_lenght: how many words will the summary contain\n",
    "        Output:\n",
    "           - A list of strings, the summary for every string in the data_text input\n",
    "           - errors: number of strings that can not be summarize\n",
    "           - no_summarizables: number of strings \n",
    "    '''\n",
    "    \n",
    "    summaries=[]\n",
    "    errors=0\n",
    "    no_summarizable=0\n",
    "    empty=0\n",
    "    # Set the minimun number of sentences in a text to be summarize\n",
    "    summarizer.INPUT_MIN_LENGTH = 2\n",
    "    # for every string in the input list\n",
    "    for i, source_text in enumerate(data_text):\n",
    "        # if the number of sentences in the source text is less thsn 1 \n",
    "        #it can not be summarize\n",
    "        if len(split_sentences(source_text))> 1:\n",
    "            try:\n",
    "                # Call gensim summarize to get a summarization with summary length words\n",
    "                summary = summarize(source_text, ratio = ratio)\n",
    "                if summary!=\"\":\n",
    "                    summaries.append(summarize(source_text, ratio = ratio))\n",
    "                else:\n",
    "                    # If the summary is empty insert a especial token\n",
    "                    summaries.append('<EMPTY>')\n",
    "                    empty +=1\n",
    "                   \n",
    "            except:\n",
    "                # Sometimes the sentences in the surce text are not correct\n",
    "                # to produce a summary\n",
    "                summaries.append('<ERROR>')\n",
    "                errors +=1\n",
    "        else:\n",
    "            # Set the summary as No summarizable because the text is too short\n",
    "            summaries.append('<NO SUMMARIZABLE>')\n",
    "            no_summarizable +=1\n",
    "\n",
    "    return summaries, errors, no_summarizable, empty\n"
   ]
  },
  {
   "cell_type": "markdown",
   "metadata": {},
   "source": [
    "The next section of code will generate a summary using the gensim library"
   ]
  },
  {
   "cell_type": "code",
   "execution_count": 7,
   "metadata": {},
   "outputs": [
    {
     "name": "stdout",
     "output_type": "stream",
     "text": [
      "\n",
      "Generating the summary for the train set\n",
      "\n",
      "Errors:  0\n",
      "No Summarizable:  171\n",
      "Empty:  697\n",
      "\n",
      "Generating the summary for the test set\n",
      "\n",
      "Errors:  0\n",
      "No Summarizable:  27\n",
      "Empty:  116\n"
     ]
    }
   ],
   "source": [
    "# Generate the summaries for the data and test set\n",
    "print(\"\\nGenerating the summary for the train set\\n\")\n",
    "train_preds,errors, no_summarizable, empty =generate_summary(train_df['text'].values, summary_length)\n",
    "print('Errors: ',errors)\n",
    "print('No Summarizable: ',no_summarizable)\n",
    "print('Empty: ',empty)\n",
    "print(\"\\nGenerating the summary for the test set\\n\")\n",
    "test_preds,errors, no_summarizable, empty=generate_summary(valid_df['text'].values, summary_length)\n",
    "print('Errors: ',errors)\n",
    "print('No Summarizable: ',no_summarizable)\n",
    "print('Empty: ',empty)"
   ]
  },
  {
   "cell_type": "markdown",
   "metadata": {},
   "source": [
    "Lets explore some of them summaries we have extracted:"
   ]
  },
  {
   "cell_type": "code",
   "execution_count": 8,
   "metadata": {},
   "outputs": [
    {
     "name": "stdout",
     "output_type": "stream",
     "text": [
      "Examples: \n",
      "\n",
      "i:  9  :  <EMPTY> \n",
      "\n",
      "i:  47  :  jdu hitting prime minister said spurt incidents lynching killing name gau raksha across country bjp government made cow national agenda seeking polarising votes.speaking india today jdu spokesperson neeraj kumar said pm modi interested votes name cow rather gau seva.pm appeal gau rakshaks second time kill people name cow . \n",
      "\n",
      "i:  33  :  seems fallen deaf ears.meanwhile prime minister modi also expressed concern 22 mp votes declared invalid recent presidential elections . \n",
      "\n",
      "i:  1  :  next day aiadmks senior leader madhusudhanan along another senior leader sengottaiyan went poes garden seemed pleaded sasikala accept partys general secretary post . \n",
      "\n",
      "i:  45  :  <NO SUMMARIZABLE> \n",
      "\n",
      "i:  22  :  result national leagues tough time attracting crowds stand coupled common excuse standard football.india continue 2019 afc asian cup qualification campaign tuesday kyrgyz republic sree kanteerava stadium bengaluru . \n",
      "\n",
      "i:  36  :  young artists embarked pursuits studied van goghs artworks techniques detail also read life struggle inspiration budding artist.jehaan mehtas artwork display exhibition.the exhibition visual treat .\n",
      "original creations participants employed van goghs techniques rather imitating artworks.among group 26 children 15yearold ishaana soni learning art past twelve years . \n",
      "\n",
      "i:  20  :  private hospitals malls city misusing basement areas carry commercial activities according replies rti queries city residents.in building plans basements approved parking spaces establishments including hospitals .\n",
      "said reported june 22 2017 junior engineer subdivisional engineer survey huda office three leading hospitals misusing basement area reference approved building plan converting lab offices vivek kalia estate officer ii huda gurgaon said reply.the roads leading important hospitals always packed vehicles alleged takyar adding space freed provide easy access case emergency.last thursday bhure lal chairman environment pollution control authority epca also asked district administration take effective steps remove roadside parking make mandatory every establishment parking facility inside premises . \n",
      "\n",
      "i:  15  :  recent study found substantial presence ultrafine particulate matter pm1 dangerous pollutant central delhi.the pm 1 particle 70 times finer thickness human hair goes directly bloodstream potentially dangerous well known pm2.5 pm10 pollutants . \n",
      "\n",
      "i:  0  :  hyderabad may 30 pti employees unions needed information technology industry work ethic good staff wellpaid techies even finding opportunities outside company work says senior industry figure .\n",
      "whenever downturn always noise unions coming play industry never sustained exchief financial officer infosys ltd v balakrishnan told pti .\n",
      "think even union dont think impact industry much industry one best paymasters country second people find opportunities outside said .\n",
      "even union dont think impact industry much people well taken care industry said former board member infosys . \n",
      "\n"
     ]
    }
   ],
   "source": [
    "import random\n",
    "#Print some summaries to analyze them\n",
    "print('Examples: \\n')\n",
    "for i in random.sample(range(50),10):\n",
    "    print('i: ',i,' : ', test_preds[i],'\\n')\n",
    "    "
   ]
  },
  {
   "cell_type": "markdown",
   "metadata": {},
   "source": [
    "Once we have inspected the results we observed that there are three kind of errors or incoherent results: \n",
    "- Errors, when the gensim summarizer produce an error\n",
    "- No summarizable, when the summarizer can not applyied because of the number of sentences\n",
    "- Null, when the summary obtained is empty or null\n"
   ]
  },
  {
   "cell_type": "markdown",
   "metadata": {},
   "source": [
    "### Evaluating the results using ROUGE metrics \n",
    "\n",
    "To evaluate the model, we will use the ROUGE metric:\n",
    "*ROUGE, or Recall-Oriented Understudy for Gisting Evaluation, is a set of metrics and a software package used for evaluating automatic summarization and machine translation software in natural language processing. The metrics compare an automatically produced summary or translation against a reference or a set of references (human-produced) summary or translation.*.\n"
   ]
  },
  {
   "cell_type": "markdown",
   "metadata": {},
   "source": [
    "#### Create predicted and real summaries file\n",
    "\n",
    "Next, we define some function to help us evaluate the metrics on the results"
   ]
  },
  {
   "cell_type": "code",
   "execution_count": 9,
   "metadata": {},
   "outputs": [],
   "source": [
    "def eval_metrics(preds, targets, avg=True):\n",
    "    ''' Evaluate the ROUGE metrics ROUGE-2 and ROUGE-L for every pair predicted summary - target summary\n",
    "    \n",
    "        Input:\n",
    "           - preds: list of strings, predicted summaries\n",
    "           - targets: list of string, target summaries\n",
    "        Output:\n",
    "            - rouge2_f_metric: list of float, the Rouge-2 fscore for every predicted summary\n",
    "            - rougel_f_metric: list of float, the Rouge-L fscore for every predicted summary\n",
    "    '''\n",
    "    #Lets calculate the rouge metrics for every document\n",
    "    rouge = Rouge()\n",
    "    scores = rouge.get_scores(preds, targets, avg)\n",
    "    # Create the output variables\n",
    "    if avg:\n",
    "        rouge2_f_metric = scores['rouge-2']['f']\n",
    "        rouge2_p_metric = scores['rouge-2']['p']\n",
    "        rouge2_r_metric = scores['rouge-2']['r']\n",
    "        rougel_f_metric = scores['rouge-l']['f']\n",
    "        rougel_p_metric = scores['rouge-l']['p']\n",
    "        rougel_r_metric = scores['rouge-l']['r']\n",
    "    else:\n",
    "        rouge2_f_metric = [score['rouge-2']['f'] for score in scores]\n",
    "        rouge2_p_metric = [score['rouge-2']['p'] for score in scores]\n",
    "        rouge2_r_metric = [score['rouge-2']['r'] for score in scores]\n",
    "        rougel_f_metric = [score['rouge-l']['f'] for score in scores]\n",
    "        rougel_p_metric = [score['rouge-l']['p'] for score in scores]\n",
    "        rougel_r_metric = [score['rouge-l']['r'] for score in scores]\n",
    "\n",
    "       \n",
    "    \n",
    "    return rouge2_f_metric, rouge2_p_metric, rouge2_r_metric, rougel_f_metric, rougel_p_metric, rougel_r_metric\n",
    "\n",
    "def save_to_df(text, labeled_summaries, predicted_summaries, r2_f, r2_p, r2_r, rl_f, rl_p, rl_r):\n",
    "    ''' Stores the metric results into a pandas dataframe'''\n",
    "    results = pd.DataFrame(columns=['text', 'summary','pred_summary','rouge2-f','rouge2-p','rouge2-r','rougel-f', 'rougel-p', 'rougel-r'])\n",
    "    results['text'] = text\n",
    "    results['summary'] = labeled_summaries\n",
    "    results['pred_summary'] = predicted_summaries\n",
    "    results['rouge2-f'] = r2_f\n",
    "    results['rouge2-p'] = r2_p\n",
    "    results['rouge2-r'] = r2_r\n",
    "    results['rougel-f'] = rl_f\n",
    "    results['rougel-p'] = rl_p\n",
    "    results['rougel-r'] = rl_r\n",
    " \n",
    "    return results"
   ]
  },
  {
   "cell_type": "markdown",
   "metadata": {},
   "source": [
    "We will call the previous function to calculate the metrics and prepare the results. We evaluate the **traning dataset**:"
   ]
  },
  {
   "cell_type": "code",
   "execution_count": 10,
   "metadata": {},
   "outputs": [
    {
     "name": "stdout",
     "output_type": "stream",
     "text": [
      "Mean Rouge-2 FScore:  0.10755085068293661 Mean Rouge-L FScore:  0.22154636704397204\n"
     ]
    },
    {
     "data": {
      "text/html": [
       "<div>\n",
       "<style scoped>\n",
       "    .dataframe tbody tr th:only-of-type {\n",
       "        vertical-align: middle;\n",
       "    }\n",
       "\n",
       "    .dataframe tbody tr th {\n",
       "        vertical-align: top;\n",
       "    }\n",
       "\n",
       "    .dataframe thead th {\n",
       "        text-align: right;\n",
       "    }\n",
       "</style>\n",
       "<table border=\"1\" class=\"dataframe\">\n",
       "  <thead>\n",
       "    <tr style=\"text-align: right;\">\n",
       "      <th></th>\n",
       "      <th>text</th>\n",
       "      <th>summary</th>\n",
       "      <th>pred_summary</th>\n",
       "      <th>rouge2-f</th>\n",
       "      <th>rouge2-p</th>\n",
       "      <th>rouge2-r</th>\n",
       "      <th>rougel-f</th>\n",
       "      <th>rougel-p</th>\n",
       "      <th>rougel-r</th>\n",
       "    </tr>\n",
       "  </thead>\n",
       "  <tbody>\n",
       "    <tr>\n",
       "      <th>0</th>\n",
       "      <td>samsung galaxy note fan waiting hear words not...</td>\n",
       "      <td>south korean tech giant samsung refuted report...</td>\n",
       "      <td>report samsung planning sell refurbished galax...</td>\n",
       "      <td>0.145455</td>\n",
       "      <td>0.235294</td>\n",
       "      <td>0.105263</td>\n",
       "      <td>0.375000</td>\n",
       "      <td>0.562500</td>\n",
       "      <td>0.281250</td>\n",
       "    </tr>\n",
       "    <tr>\n",
       "      <th>1</th>\n",
       "      <td>public works department pwd cleared proposal c...</td>\n",
       "      <td>public works department pwd approved construct...</td>\n",
       "      <td>nh58 denotified highway last year assigned dis...</td>\n",
       "      <td>0.091743</td>\n",
       "      <td>0.067568</td>\n",
       "      <td>0.142857</td>\n",
       "      <td>0.170213</td>\n",
       "      <td>0.131148</td>\n",
       "      <td>0.242424</td>\n",
       "    </tr>\n",
       "    <tr>\n",
       "      <th>2</th>\n",
       "      <td>new delhi jun 30 pti india transits new era ro...</td>\n",
       "      <td>central board excise customs cbec friday annou...</td>\n",
       "      <td>enable availability officers staff benefit tra...</td>\n",
       "      <td>0.000000</td>\n",
       "      <td>0.000000</td>\n",
       "      <td>0.000000</td>\n",
       "      <td>0.160000</td>\n",
       "      <td>0.142857</td>\n",
       "      <td>0.181818</td>\n",
       "    </tr>\n",
       "    <tr>\n",
       "      <th>3</th>\n",
       "      <td>new delhi aug 2 pti bomb squads canine teams t...</td>\n",
       "      <td>bomb squads canine teams rushed check package ...</td>\n",
       "      <td>&lt;EMPTY&gt;</td>\n",
       "      <td>0.000000</td>\n",
       "      <td>0.000000</td>\n",
       "      <td>0.000000</td>\n",
       "      <td>0.000000</td>\n",
       "      <td>0.000000</td>\n",
       "      <td>0.000000</td>\n",
       "    </tr>\n",
       "    <tr>\n",
       "      <th>4</th>\n",
       "      <td>newcomer kuldeep yadav picked four wickets deb...</td>\n",
       "      <td>indian spinner kuldeep yadav registered 468 de...</td>\n",
       "      <td>newcomer kuldeep yadav picked four wickets deb...</td>\n",
       "      <td>0.038462</td>\n",
       "      <td>0.030769</td>\n",
       "      <td>0.051282</td>\n",
       "      <td>0.164948</td>\n",
       "      <td>0.131148</td>\n",
       "      <td>0.222222</td>\n",
       "    </tr>\n",
       "  </tbody>\n",
       "</table>\n",
       "</div>"
      ],
      "text/plain": [
       "                                                text  \\\n",
       "0  samsung galaxy note fan waiting hear words not...   \n",
       "1  public works department pwd cleared proposal c...   \n",
       "2  new delhi jun 30 pti india transits new era ro...   \n",
       "3  new delhi aug 2 pti bomb squads canine teams t...   \n",
       "4  newcomer kuldeep yadav picked four wickets deb...   \n",
       "\n",
       "                                             summary  \\\n",
       "0  south korean tech giant samsung refuted report...   \n",
       "1  public works department pwd approved construct...   \n",
       "2  central board excise customs cbec friday annou...   \n",
       "3  bomb squads canine teams rushed check package ...   \n",
       "4  indian spinner kuldeep yadav registered 468 de...   \n",
       "\n",
       "                                        pred_summary  rouge2-f  rouge2-p  \\\n",
       "0  report samsung planning sell refurbished galax...  0.145455  0.235294   \n",
       "1  nh58 denotified highway last year assigned dis...  0.091743  0.067568   \n",
       "2  enable availability officers staff benefit tra...  0.000000  0.000000   \n",
       "3                                            <EMPTY>  0.000000  0.000000   \n",
       "4  newcomer kuldeep yadav picked four wickets deb...  0.038462  0.030769   \n",
       "\n",
       "   rouge2-r  rougel-f  rougel-p  rougel-r  \n",
       "0  0.105263  0.375000  0.562500  0.281250  \n",
       "1  0.142857  0.170213  0.131148  0.242424  \n",
       "2  0.000000  0.160000  0.142857  0.181818  \n",
       "3  0.000000  0.000000  0.000000  0.000000  \n",
       "4  0.051282  0.164948  0.131148  0.222222  "
      ]
     },
     "execution_count": 10,
     "metadata": {},
     "output_type": "execute_result"
    }
   ],
   "source": [
    "#Create the list of predicted summaries\n",
    "predicted_summaries = train_preds\n",
    "#Create the list of targeted summaries\n",
    "labeled_summaries = list(train_df['summary'].values)\n",
    "#Calculate the metrics\n",
    "r2_f, r2_p, r2_r, rl_f, rl_p, rl_r = eval_metrics(predicted_summaries, labeled_summaries, False)\n",
    "print('Mean Rouge-2 FScore: ',np.mean(r2_f), 'Mean Rouge-L FScore: ',np.mean(rl_f))\n",
    "#Save the predictions and metrics in a file \n",
    "train_results = save_to_df(train_df['text'].values, labeled_summaries, predicted_summaries, r2_f, r2_p, r2_r, rl_f, rl_p, rl_r)\n",
    "train_results.to_csv(train_results_filename, index=False)\n",
    "train_results.head(5)"
   ]
  },
  {
   "cell_type": "markdown",
   "metadata": {},
   "source": [
    "We will repeat the steps for the **validation dataset** to save the results on disk"
   ]
  },
  {
   "cell_type": "code",
   "execution_count": 13,
   "metadata": {},
   "outputs": [
    {
     "name": "stdout",
     "output_type": "stream",
     "text": [
      "Mean Rouge-2 FScore:  0.11318916800501455 Mean Rouge-L FScore:  0.23051210583233367\n"
     ]
    },
    {
     "data": {
      "text/html": [
       "<div>\n",
       "<style scoped>\n",
       "    .dataframe tbody tr th:only-of-type {\n",
       "        vertical-align: middle;\n",
       "    }\n",
       "\n",
       "    .dataframe tbody tr th {\n",
       "        vertical-align: top;\n",
       "    }\n",
       "\n",
       "    .dataframe thead th {\n",
       "        text-align: right;\n",
       "    }\n",
       "</style>\n",
       "<table border=\"1\" class=\"dataframe\">\n",
       "  <thead>\n",
       "    <tr style=\"text-align: right;\">\n",
       "      <th></th>\n",
       "      <th>text</th>\n",
       "      <th>summary</th>\n",
       "      <th>pred_summary</th>\n",
       "      <th>rouge2-f</th>\n",
       "      <th>rouge2-p</th>\n",
       "      <th>rouge2-r</th>\n",
       "      <th>rougel-f</th>\n",
       "      <th>rougel-p</th>\n",
       "      <th>rougel-r</th>\n",
       "    </tr>\n",
       "  </thead>\n",
       "  <tbody>\n",
       "    <tr>\n",
       "      <th>0</th>\n",
       "      <td>hyderabad may 30 pti employees unions needed i...</td>\n",
       "      <td>amid reports mass layoffs former infosys cfo v...</td>\n",
       "      <td>hyderabad may 30 pti employees unions needed i...</td>\n",
       "      <td>0.162162</td>\n",
       "      <td>0.112500</td>\n",
       "      <td>0.290323</td>\n",
       "      <td>0.372093</td>\n",
       "      <td>0.271186</td>\n",
       "      <td>0.592593</td>\n",
       "    </tr>\n",
       "    <tr>\n",
       "      <th>1</th>\n",
       "      <td>demise aiadmks permanent general secretary j j...</td>\n",
       "      <td>following demise aiadmk supremo j jayalalithaa...</td>\n",
       "      <td>next day aiadmks senior leader madhusudhanan a...</td>\n",
       "      <td>0.067797</td>\n",
       "      <td>0.095238</td>\n",
       "      <td>0.052632</td>\n",
       "      <td>0.259259</td>\n",
       "      <td>0.350000</td>\n",
       "      <td>0.205882</td>\n",
       "    </tr>\n",
       "    <tr>\n",
       "      <th>2</th>\n",
       "      <td>government lost fasttracked appeal supreme cou...</td>\n",
       "      <td>british government must hold vote houses parli...</td>\n",
       "      <td>government lost fasttracked appeal supreme cou...</td>\n",
       "      <td>0.012780</td>\n",
       "      <td>0.007168</td>\n",
       "      <td>0.058824</td>\n",
       "      <td>0.134615</td>\n",
       "      <td>0.080000</td>\n",
       "      <td>0.424242</td>\n",
       "    </tr>\n",
       "    <tr>\n",
       "      <th>3</th>\n",
       "      <td>kamal haasan bigg boss tamil involved yet anot...</td>\n",
       "      <td>leader political party puthiya tamizhagam thre...</td>\n",
       "      <td>kamal haasan bigg boss tamil involved yet anot...</td>\n",
       "      <td>0.271186</td>\n",
       "      <td>0.320000</td>\n",
       "      <td>0.235294</td>\n",
       "      <td>0.338983</td>\n",
       "      <td>0.384615</td>\n",
       "      <td>0.303030</td>\n",
       "    </tr>\n",
       "    <tr>\n",
       "      <th>4</th>\n",
       "      <td>chinese authorities claim liu xia free woman ....</td>\n",
       "      <td>journalists barred access wife recently deceas...</td>\n",
       "      <td>one week death husband nobel laureate democrac...</td>\n",
       "      <td>0.054795</td>\n",
       "      <td>0.032967</td>\n",
       "      <td>0.162162</td>\n",
       "      <td>0.157068</td>\n",
       "      <td>0.094340</td>\n",
       "      <td>0.468750</td>\n",
       "    </tr>\n",
       "  </tbody>\n",
       "</table>\n",
       "</div>"
      ],
      "text/plain": [
       "                                                text  \\\n",
       "0  hyderabad may 30 pti employees unions needed i...   \n",
       "1  demise aiadmks permanent general secretary j j...   \n",
       "2  government lost fasttracked appeal supreme cou...   \n",
       "3  kamal haasan bigg boss tamil involved yet anot...   \n",
       "4  chinese authorities claim liu xia free woman ....   \n",
       "\n",
       "                                             summary  \\\n",
       "0  amid reports mass layoffs former infosys cfo v...   \n",
       "1  following demise aiadmk supremo j jayalalithaa...   \n",
       "2  british government must hold vote houses parli...   \n",
       "3  leader political party puthiya tamizhagam thre...   \n",
       "4  journalists barred access wife recently deceas...   \n",
       "\n",
       "                                        pred_summary  rouge2-f  rouge2-p  \\\n",
       "0  hyderabad may 30 pti employees unions needed i...  0.162162  0.112500   \n",
       "1  next day aiadmks senior leader madhusudhanan a...  0.067797  0.095238   \n",
       "2  government lost fasttracked appeal supreme cou...  0.012780  0.007168   \n",
       "3  kamal haasan bigg boss tamil involved yet anot...  0.271186  0.320000   \n",
       "4  one week death husband nobel laureate democrac...  0.054795  0.032967   \n",
       "\n",
       "   rouge2-r  rougel-f  rougel-p  rougel-r  \n",
       "0  0.290323  0.372093  0.271186  0.592593  \n",
       "1  0.052632  0.259259  0.350000  0.205882  \n",
       "2  0.058824  0.134615  0.080000  0.424242  \n",
       "3  0.235294  0.338983  0.384615  0.303030  \n",
       "4  0.162162  0.157068  0.094340  0.468750  "
      ]
     },
     "execution_count": 13,
     "metadata": {},
     "output_type": "execute_result"
    }
   ],
   "source": [
    "#Create the list of predicted summaries\n",
    "predicted_summaries = test_preds\n",
    "#Create the list of targeted summaries\n",
    "labeled_summaries = list(valid_df['summary'].values)\n",
    "#Calculate the metrics\n",
    "r2_f, r2_p, r2_r, rl_f, rl_p, rl_r = eval_metrics(predicted_summaries, labeled_summaries, False)\n",
    "print('Mean Rouge-2 FScore: ',np.mean(r2_f), 'Mean Rouge-L FScore: ',np.mean(rl_f))\n",
    "#Save the predictions and metrics in a file \n",
    "valid_results = save_to_df(valid_df['text'].values, labeled_summaries, predicted_summaries, r2_f, r2_p, r2_r, rl_f, rl_p, rl_r)\n",
    "valid_results.to_csv(valid_results_filename, index=False)\n",
    "valid_results.head(5)"
   ]
  },
  {
   "cell_type": "markdown",
   "metadata": {},
   "source": [
    "There are two aspects that may impact the need for human post-processing:\n",
    "- Does the summary sound fluent?\n",
    "- Is summary adequate? I.e. is the length appropriate and does it cover the most important information of the text it summarizes?\n",
    "\n",
    "ROUGE doesn't try to assess how fluent the summary: ROUGE only tries to assess the adequacy, by simply counting how many n-grams in your generated summary matches the n-grams in your reference summary (or summaries, as ROUGE supports multi-reference corpora).This is the process for one document-summary pair. You repeat the process for all documents, and average all the scores and that gives you a ROUGE-N score. So a higher score would mean that on average there is a high overlap of n-grams between your summaries and the references.\n",
    "\n",
    "Example:\n",
    "\n",
    "S1. police killed the gunman\n",
    "S2. police kill the gunman\n",
    "S3. the gunman kill police\n",
    "\n",
    "S1 is the reference and S2 and S3 are candidates. Note S2 and S3 both have one overlapping bigram with the reference, so they have the same ROUGE-2 score, although S2 should be better. An additional ROUGE-L score deals with this, where L stands for Longest Common Subsequence. In S2, the first word and last two words match the reference, so it scores 3/4, whereas S3 only matches the bigram, so scores 2/4. See the paper for more details\n",
    "\n",
    "Because ROUGE is based only on content overlap, it can determine if the same general concepts are discussed between an automatic summary and a reference summary, but it cannot determine if the result is coherent or the sentences flow together in a sensible manner. High-order n-gram ROUGE measures try to judge fluency to some degree.\n",
    "\n",
    "**What is the best way to really understand what a ROUGE score actually measures?**\n",
    "\n",
    "In short and approximately:\n",
    "\n",
    "ROUGE-n recall=40% means that 40% of the n-grams in the reference summary are also present in the generated summary.\n",
    "ROUGE-n precision=40% means that 40% of the n-grams in the generated summary are also present in the reference summary.\n",
    "ROUGE-n F1-score=40% is more difficult to interpret, like any F1-score.\n",
    "ROUGE is more interpretable than BLEU (from {2}: \"Other Known Deficiencies of Bleu: Scores hard to interpret\"). I said approximately because the original ROUGE implementation from the paper that introduced ROUGE {3} may perform a few more things such as stemming."
   ]
  },
  {
   "cell_type": "markdown",
   "metadata": {},
   "source": [
    "## Visualization of results\n",
    "\n",
    "Plotting the distribution of the Rouge-2 and Rouge-L values in the training data"
   ]
  },
  {
   "cell_type": "code",
   "execution_count": 14,
   "metadata": {},
   "outputs": [
    {
     "data": {
      "text/plain": [
       "<matplotlib.axes._subplots.AxesSubplot at 0x7f2ae8202310>"
      ]
     },
     "execution_count": 14,
     "metadata": {},
     "output_type": "execute_result"
    },
    {
     "data": {
      "image/png": "[encoded data removed]",
      "text/plain": [
       "<Figure size 1000x500 with 2 Axes>"
      ]
     },
     "metadata": {
      "needs_background": "light"
     },
     "output_type": "display_data"
    }
   ],
   "source": [
    "# Define the arguments for plotting\n",
    "kwargs = dict(hist_kws={'alpha':.7}, kde_kws={'linewidth':2})\n",
    "# Plot a histogram\n",
    "fig, axes = plt.subplots(1, 2, figsize=(10, 5), sharey=False, dpi=100)\n",
    "sns.distplot(train_results['rouge2-f'] , color=\"dodgerblue\", ax=axes[0], axlabel='Rouge-2 Fscore')\n",
    "sns.distplot(train_results['rougel-f'], color=\"deeppink\", ax=axes[1], axlabel='Rouge-L Fscore')"
   ]
  },
  {
   "cell_type": "markdown",
   "metadata": {},
   "source": [
    "Plotting the distribution of the Rouge-2 values in the validation data"
   ]
  },
  {
   "cell_type": "code",
   "execution_count": 15,
   "metadata": {},
   "outputs": [
    {
     "data": {
      "text/plain": [
       "<matplotlib.axes._subplots.AxesSubplot at 0x7f2ae8987a90>"
      ]
     },
     "execution_count": 15,
     "metadata": {},
     "output_type": "execute_result"
    },
    {
     "data": {
      "image/png": "[encoded data removed]",
      "text/plain": [
       "<Figure size 1000x500 with 2 Axes>"
      ]
     },
     "metadata": {
      "needs_background": "light"
     },
     "output_type": "display_data"
    }
   ],
   "source": [
    "# Define the arguments for plotting\n",
    "kwargs = dict(hist_kws={'alpha':.7}, kde_kws={'linewidth':2})\n",
    "# Plot a histogram\n",
    "fig, axes = plt.subplots(1, 2, figsize=(10, 5), sharey=False, dpi=100)\n",
    "sns.distplot(valid_results['rouge2-f'] , color=\"dodgerblue\", ax=axes[0], axlabel='Rouge-2 Fscore')\n",
    "sns.distplot(valid_results['rougel-f'], color=\"deeppink\", ax=axes[1], axlabel='Rouge-L Fscore')"
   ]
  },
  {
   "cell_type": "markdown",
   "metadata": {},
   "source": [
    "#### References\n",
    "\n",
    "[1]. El-Refaiy, Ahmed & Abas, A.R. & Elhenawy, I.. (2018). Review of recent techniques for extractive text summarization. Journal of Theoretical and Applied Information Technology. 96. 7739-7759. \n"
   ]
  },
  {
   "cell_type": "markdown",
   "metadata": {},
   "source": [
    "[2] Lin, Chin-Yew. \"Rouge: A package for automatic evaluation of summaries.\" In Text summarization branches out: Proceedings of the ACL-04 workshop, vol. 8. 2004. https://scholar.google.com/scholar?cluster=2397172516759442154&hl=en&as_sdt=0,5 ; http://anthology.aclweb.org/W/W04/W04-1013.pdf"
   ]
  },
  {
   "cell_type": "code",
   "execution_count": null,
   "metadata": {},
   "outputs": [],
   "source": []
  }
 ],
 "metadata": {
  "environment": {
   "name": "pytorch-gpu.1-4.m46",
   "type": "gcloud",
   "uri": "gcr.io/deeplearning-platform-release/pytorch-gpu.1-4:m46"
  },
  "kernelspec": {
   "display_name": "Python 3",
   "language": "python",
   "name": "python3"
  },
  "language_info": {
   "codemirror_mode": {
    "name": "ipython",
    "version": 3
   },
   "file_extension": ".py",
   "mimetype": "text/x-python",
   "name": "python",
   "nbconvert_exporter": "python",
   "pygments_lexer": "ipython3",
   "version": "3.7.6"
  }
 },
 "nbformat": 4,
 "nbformat_minor": 4
}
