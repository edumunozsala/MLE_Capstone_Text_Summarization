{
 "cells": [
  {
   "cell_type": "markdown",
   "metadata": {},
   "source": [
    "# Text summarization using machine learning techniques\n",
    "\n",
    "## A sequence-to-sequence model using an Encoder-Decoder with Attention\n",
    "\n",
    "The encoder-decoder model for recurrent neural networks is an architecture for sequence-to-sequence prediction problems. It comprised two parts:\n",
    "-\t**Encoder**: The encoder is responsible for stepping through the input time steps, read the input words one by one and encoding the entire sequence into a fixed length vector called a context vector.\n",
    "-\t**Decoder**: The decoder is responsible for stepping through the output time steps while reading from the context vector, extracting the words one by one.\n",
    "The trouble with seq2seq is that the only information that the decoder receives from the encoder is the last encoder hidden state which is like a numerical summary of an input sequence. So, for a long input text, we expect the decoder to use just this one vector representation to output a translation. This might lead to catastrophic forgetting.\n",
    "\n",
    "To solve this problem, the attention mechanism was developed. **Attention** is proposed as a method to both align and translate. It identifies which parts of the input sequence are relevant to each word in the output (alignment) and use that relevant information to select the right output (translation). So instead of encoding the input sequence into a single fixed context vector (reason for the mentioned bad performance), the attention model develops a context vector that is filtered specifically for each output time step [11]. Attention provides the decoder with information from every encoder hidden state. With this setting, the model can selectively focus on useful parts of the input sequence and hence, learn the alignment between them.\n",
    "\n",
    "In the next few sections we will go through the whole process: Load the datasets and vector representation, build the vocabulary, define the encoder, decoder and attention mechanism. Then we will code the train stage, iterating over the datasets, and finally we will make the predictions for the validation dataset to get the value of the metrics of interest.\n",
    "\n"
   ]
  },
  {
   "cell_type": "markdown",
   "metadata": {},
   "source": [
    "### Importing the libraries"
   ]
  },
  {
   "cell_type": "code",
   "execution_count": 1,
   "metadata": {
    "_cell_guid": "b1076dfc-b9ad-4769-8c92-a6c4dae69d19",
    "_uuid": "8f2839f25d086af736a60e9eeb907d3b93b6e0e5"
   },
   "outputs": [],
   "source": [
    "# This Python 3 environment comes with many helpful analytics libraries installed\n",
    "# It is defined by the kaggle/python docker image: https://github.com/kaggle/docker-python\n",
    "# For example, here's several helpful packages to load in \n",
    "\n",
    "import numpy as np # linear algebra\n",
    "import pandas as pd # data processing, CSV file I/O (e.g. pd.read_csv)\n",
    "import os\n",
    "\n",
    "#Import libraries for plotting\n",
    "import matplotlib.pyplot as plt\n",
    "import seaborn as sns\n",
    "plt.switch_backend('agg')\n",
    "import matplotlib.ticker as ticker\n",
    "\n",
    "#Import libraries for text processing\n",
    "#from nltk.tokenize import word_tokenize\n",
    "from nltk.corpus import stopwords\n",
    "import string\n",
    "import re\n",
    "\n",
    "stop_words = stopwords.words('english')\n",
    "\n",
    "#Import some utils\n",
    "from io import open\n",
    "import unicodedata\n",
    "import random\n",
    "import pickle\n",
    "\n",
    "#Import the pytorch libraries and modules\n",
    "import torch\n",
    "import torch.nn as nn\n",
    "from torch import optim\n",
    "import torch.nn.functional as F\n"
   ]
  },
  {
   "cell_type": "markdown",
   "metadata": {},
   "source": [
    "Install and import the library to calculate the evaluations metrics: ROUGE"
   ]
  },
  {
   "cell_type": "code",
   "execution_count": 2,
   "metadata": {},
   "outputs": [
    {
     "name": "stdout",
     "output_type": "stream",
     "text": [
      "Collecting rouge\n",
      "  Downloading https://files.pythonhosted.org/packages/43/cc/e18e33be20971ff73a056ebdb023476b5a545e744e3fc22acd8c758f1e0d/rouge-1.0.0-py3-none-any.whl\n",
      "Requirement already satisfied: six in /opt/conda/lib/python3.6/site-packages (from rouge) (1.12.0)\n",
      "Installing collected packages: rouge\n",
      "Successfully installed rouge-1.0.0\n"
     ]
    }
   ],
   "source": [
    "!pip install rouge\n",
    "#Import library to calculate the evaluation metric\n",
    "from rouge import Rouge"
   ]
  },
  {
   "cell_type": "markdown",
   "metadata": {},
   "source": [
    "Set parameters with the train and validation filenames"
   ]
  },
  {
   "cell_type": "code",
   "execution_count": 7,
   "metadata": {},
   "outputs": [],
   "source": [
    "data_path = '/kaggle/input/cleaned-news-summary/cl_train_news_summary_more.csv'\n",
    "valid_path = '/kaggle/input/cleaned-news-summary/cl_valid_news_summary_more.csv'"
   ]
  },
  {
   "cell_type": "markdown",
   "metadata": {},
   "source": [
    "### Loading the train and validation datasets"
   ]
  },
  {
   "cell_type": "markdown",
   "metadata": {},
   "source": [
    "We are reading just a subset of 10,000 rows from the validation datasets to reduce the runnig time."
   ]
  },
  {
   "cell_type": "code",
   "execution_count": 8,
   "metadata": {},
   "outputs": [
    {
     "name": "stdout",
     "output_type": "stream",
     "text": [
      "Drop null and duplicates, Total rows: 83589\n"
     ]
    },
    {
     "data": {
      "text/html": [
       "<div>\n",
       "<style scoped>\n",
       "    .dataframe tbody tr th:only-of-type {\n",
       "        vertical-align: middle;\n",
       "    }\n",
       "\n",
       "    .dataframe tbody tr th {\n",
       "        vertical-align: top;\n",
       "    }\n",
       "\n",
       "    .dataframe thead th {\n",
       "        text-align: right;\n",
       "    }\n",
       "</style>\n",
       "<table border=\"1\" class=\"dataframe\">\n",
       "  <thead>\n",
       "    <tr style=\"text-align: right;\">\n",
       "      <th></th>\n",
       "      <th>summary</th>\n",
       "      <th>text</th>\n",
       "    </tr>\n",
       "  </thead>\n",
       "  <tbody>\n",
       "    <tr>\n",
       "      <td>0</td>\n",
       "      <td>paytm raises 1 4 billion softbank largest funding</td>\n",
       "      <td>digital payments startup paytm raised 1 4 bill...</td>\n",
       "    </tr>\n",
       "    <tr>\n",
       "      <td>1</td>\n",
       "      <td>petrol price cut â per litre daily revision st...</td>\n",
       "      <td>oil companies thursday reduced petrol price â ...</td>\n",
       "    </tr>\n",
       "    <tr>\n",
       "      <td>2</td>\n",
       "      <td>army plans deploy women officers cyber warfare</td>\n",
       "      <td>indian army announced plans deploy women offic...</td>\n",
       "    </tr>\n",
       "    <tr>\n",
       "      <td>3</td>\n",
       "      <td>uday chopra confirms yrf produce jessica chast...</td>\n",
       "      <td>yash raj films ceo uday chopra confirmed los a...</td>\n",
       "    </tr>\n",
       "    <tr>\n",
       "      <td>4</td>\n",
       "      <td>mulayam yadav contest 2019 polls mainpuri sp l...</td>\n",
       "      <td>senior samajwadi party leader ram gopal yadav ...</td>\n",
       "    </tr>\n",
       "  </tbody>\n",
       "</table>\n",
       "</div>"
      ],
      "text/plain": [
       "                                             summary  \\\n",
       "0  paytm raises 1 4 billion softbank largest funding   \n",
       "1  petrol price cut â per litre daily revision st...   \n",
       "2     army plans deploy women officers cyber warfare   \n",
       "3  uday chopra confirms yrf produce jessica chast...   \n",
       "4  mulayam yadav contest 2019 polls mainpuri sp l...   \n",
       "\n",
       "                                                text  \n",
       "0  digital payments startup paytm raised 1 4 bill...  \n",
       "1  oil companies thursday reduced petrol price â ...  \n",
       "2  indian army announced plans deploy women offic...  \n",
       "3  yash raj films ceo uday chopra confirmed los a...  \n",
       "4  senior samajwadi party leader ram gopal yadav ...  "
      ]
     },
     "execution_count": 8,
     "metadata": {},
     "output_type": "execute_result"
    }
   ],
   "source": [
    "# Read the csv file\n",
    "data = pd.read_csv(data_path,encoding='utf-8')\n",
    "#Drop rows with duplicate values in the text column\n",
    "data.drop_duplicates(subset=[\"text\"],inplace=True)\n",
    "#Drop rows with null values in the text variable\n",
    "data.dropna(inplace=True)\n",
    "data.reset_index(drop=True,inplace=True)\n",
    "# we are using the text variable as the summary and the ctext as the source text\n",
    "print('Drop null and duplicates, Total rows:', len(data))\n",
    "# Rename the columns\n",
    "data.columns = ['summary','text']\n",
    "data.head()"
   ]
  },
  {
   "cell_type": "code",
   "execution_count": 9,
   "metadata": {},
   "outputs": [
    {
     "name": "stdout",
     "output_type": "stream",
     "text": [
      "Drop null and duplicates, Total rows: 10000\n"
     ]
    },
    {
     "data": {
      "text/html": [
       "<div>\n",
       "<style scoped>\n",
       "    .dataframe tbody tr th:only-of-type {\n",
       "        vertical-align: middle;\n",
       "    }\n",
       "\n",
       "    .dataframe tbody tr th {\n",
       "        vertical-align: top;\n",
       "    }\n",
       "\n",
       "    .dataframe thead th {\n",
       "        text-align: right;\n",
       "    }\n",
       "</style>\n",
       "<table border=\"1\" class=\"dataframe\">\n",
       "  <thead>\n",
       "    <tr style=\"text-align: right;\">\n",
       "      <th></th>\n",
       "      <th>summary</th>\n",
       "      <th>text</th>\n",
       "    </tr>\n",
       "  </thead>\n",
       "  <tbody>\n",
       "    <tr>\n",
       "      <td>0</td>\n",
       "      <td>govt forms sit ryan murder case cbse seeks saf...</td>\n",
       "      <td>hrd ministry formed threemember special invest...</td>\n",
       "    </tr>\n",
       "    <tr>\n",
       "      <td>1</td>\n",
       "      <td>indrani asks furniture jewellery divorce report</td>\n",
       "      <td>letter written jail sheena bora murder accused...</td>\n",
       "    </tr>\n",
       "    <tr>\n",
       "      <td>2</td>\n",
       "      <td>ed raids 35 premises nirav modi â assets seized</td>\n",
       "      <td>enforcement directorate ed friday conducted se...</td>\n",
       "    </tr>\n",
       "    <tr>\n",
       "      <td>3</td>\n",
       "      <td>japan admits 1st death 2011 fukushima nuclear ...</td>\n",
       "      <td>japan acknowledged first time worker died radi...</td>\n",
       "    </tr>\n",
       "    <tr>\n",
       "      <td>4</td>\n",
       "      <td>entire village germany auctioned</td>\n",
       "      <td>entire village germany auctioned weekend bids ...</td>\n",
       "    </tr>\n",
       "  </tbody>\n",
       "</table>\n",
       "</div>"
      ],
      "text/plain": [
       "                                             summary  \\\n",
       "0  govt forms sit ryan murder case cbse seeks saf...   \n",
       "1    indrani asks furniture jewellery divorce report   \n",
       "2    ed raids 35 premises nirav modi â assets seized   \n",
       "3  japan admits 1st death 2011 fukushima nuclear ...   \n",
       "4                   entire village germany auctioned   \n",
       "\n",
       "                                                text  \n",
       "0  hrd ministry formed threemember special invest...  \n",
       "1  letter written jail sheena bora murder accused...  \n",
       "2  enforcement directorate ed friday conducted se...  \n",
       "3  japan acknowledged first time worker died radi...  \n",
       "4  entire village germany auctioned weekend bids ...  "
      ]
     },
     "execution_count": 9,
     "metadata": {},
     "output_type": "execute_result"
    }
   ],
   "source": [
    "# Read the csv file\n",
    "valid_dataset = pd.read_csv(valid_path,encoding='utf-8', nrows=10000)\n",
    "#Drop rows with duplicate values in the text column\n",
    "valid_dataset.drop_duplicates(subset=[\"text\"],inplace=True)\n",
    "#Drop rows with null values in the text variable\n",
    "valid_dataset.dropna(inplace=True)\n",
    "valid_dataset.reset_index(drop=True,inplace=True)\n",
    "# we are using the text variable as the summary and the ctext as the source text\n",
    "print('Drop null and duplicates, Total rows:', len(valid_dataset))\n",
    "# Rename the columns\n",
    "valid_dataset.columns = ['summary','text']\n",
    "valid_dataset.head()"
   ]
  },
  {
   "cell_type": "markdown",
   "metadata": {},
   "source": [
    "## Cleaning the data\n",
    "\n",
    "We create a mapping from common contractions to it expanded form, we will use it later to clean and process the texts."
   ]
  },
  {
   "cell_type": "code",
   "execution_count": 10,
   "metadata": {},
   "outputs": [],
   "source": [
    "contraction_mapping = {\"ain't\": \"is not\", \"aren't\": \"are not\",\"can't\": \"cannot\", \"'cause\": \"because\", \"could've\": \"could have\", \"couldn't\": \"could not\",\n",
    "\n",
    "                           \"didn't\": \"did not\", \"doesn't\": \"does not\", \"don't\": \"do not\", \"hadn't\": \"had not\", \"hasn't\": \"has not\", \"haven't\": \"have not\",\n",
    "\n",
    "                           \"he'd\": \"he would\",\"he'll\": \"he will\", \"he's\": \"he is\", \"how'd\": \"how did\", \"how'd'y\": \"how do you\", \"how'll\": \"how will\", \"how's\": \"how is\",\n",
    "\n",
    "                           \"I'd\": \"I would\", \"I'd've\": \"I would have\", \"I'll\": \"I will\", \"I'll've\": \"I will have\",\"I'm\": \"I am\", \"I've\": \"I have\", \"i'd\": \"i would\",\n",
    "\n",
    "                           \"i'd've\": \"i would have\", \"i'll\": \"i will\",  \"i'll've\": \"i will have\",\"i'm\": \"i am\", \"i've\": \"i have\", \"isn't\": \"is not\", \"it'd\": \"it would\",\n",
    "\n",
    "                           \"it'd've\": \"it would have\", \"it'll\": \"it will\", \"it'll've\": \"it will have\",\"it's\": \"it is\", \"let's\": \"let us\", \"ma'am\": \"madam\",\n",
    "\n",
    "                           \"mayn't\": \"may not\", \"might've\": \"might have\",\"mightn't\": \"might not\",\"mightn't've\": \"might not have\", \"must've\": \"must have\",\n",
    "\n",
    "                           \"mustn't\": \"must not\", \"mustn't've\": \"must not have\", \"needn't\": \"need not\", \"needn't've\": \"need not have\",\"o'clock\": \"of the clock\",\n",
    "\n",
    "                           \"oughtn't\": \"ought not\", \"oughtn't've\": \"ought not have\", \"shan't\": \"shall not\", \"sha'n't\": \"shall not\", \"shan't've\": \"shall not have\",\n",
    "\n",
    "                           \"she'd\": \"she would\", \"she'd've\": \"she would have\", \"she'll\": \"she will\", \"she'll've\": \"she will have\", \"she's\": \"she is\",\n",
    "\n",
    "                           \"should've\": \"should have\", \"shouldn't\": \"should not\", \"shouldn't've\": \"should not have\", \"so've\": \"so have\",\"so's\": \"so as\",\n",
    "\n",
    "                           \"this's\": \"this is\",\"that'd\": \"that would\", \"that'd've\": \"that would have\", \"that's\": \"that is\", \"there'd\": \"there would\",\n",
    "\n",
    "                           \"there'd've\": \"there would have\", \"there's\": \"there is\", \"here's\": \"here is\",\"they'd\": \"they would\", \"they'd've\": \"they would have\",\n",
    "\n",
    "                           \"they'll\": \"they will\", \"they'll've\": \"they will have\", \"they're\": \"they are\", \"they've\": \"they have\", \"to've\": \"to have\",\n",
    "\n",
    "                           \"wasn't\": \"was not\", \"we'd\": \"we would\", \"we'd've\": \"we would have\", \"we'll\": \"we will\", \"we'll've\": \"we will have\", \"we're\": \"we are\",\n",
    "\n",
    "                           \"we've\": \"we have\", \"weren't\": \"were not\", \"what'll\": \"what will\", \"what'll've\": \"what will have\", \"what're\": \"what are\",\n",
    "\n",
    "                           \"what's\": \"what is\", \"what've\": \"what have\", \"when's\": \"when is\", \"when've\": \"when have\", \"where'd\": \"where did\", \"where's\": \"where is\",\n",
    "\n",
    "                           \"where've\": \"where have\", \"who'll\": \"who will\", \"who'll've\": \"who will have\", \"who's\": \"who is\", \"who've\": \"who have\",\n",
    "\n",
    "                           \"why's\": \"why is\", \"why've\": \"why have\", \"will've\": \"will have\", \"won't\": \"will not\", \"won't've\": \"will not have\",\n",
    "\n",
    "                           \"would've\": \"would have\", \"wouldn't\": \"would not\", \"wouldn't've\": \"would not have\", \"y'all\": \"you all\",\n",
    "\n",
    "                           \"y'all'd\": \"you all would\",\"y'all'd've\": \"you all would have\",\"y'all're\": \"you all are\",\"y'all've\": \"you all have\",\n",
    "\n",
    "                           \"you'd\": \"you would\", \"you'd've\": \"you would have\", \"you'll\": \"you will\", \"you'll've\": \"you will have\",\n",
    "\n",
    "                           \"you're\": \"you are\", \"you've\": \"you have\"}"
   ]
  },
  {
   "cell_type": "markdown",
   "metadata": {},
   "source": [
    "Function to preprocess the data (but it could be processed previously)"
   ]
  },
  {
   "cell_type": "code",
   "execution_count": 11,
   "metadata": {},
   "outputs": [],
   "source": [
    "def preprocess(text):\n",
    "    ''' Function to clean the input text: convert to lowercase, expand the contractions, remove the stopwords,\n",
    "        remove punctuations\n",
    "    '''\n",
    "\n",
    "    text = text.lower() # lowercase\n",
    "    text = text.split() # convert have'nt -> have not\n",
    "    \n",
    "    for i in range(len(text)): # For every token or word in the text\n",
    "        word = text[i]\n",
    "        if word in contraction_mapping:\n",
    "            text[i] = contraction_mapping[word] # Expand the contractions\n",
    "            \n",
    "    text = \" \".join(text) # Rejoin the word to a sentence\n",
    "    text = text.split() # Split the text into words\n",
    "    newtext = []\n",
    "    for word in text: # For every token or word in the text\n",
    "        if word not in stop_words:\n",
    "            newtext.append(word) #Include only the non stopwords\n",
    "    text = \" \".join(newtext)\n",
    "    text = text.replace(\"'s\",'') # Expand contractions, convert your's -> your\n",
    "    text = re.sub(r'\\(.*\\)','',text) # remove (words)\n",
    "    text = re.sub(r'[^a-zA-Z0-9. ]','',text) # remove punctuations\n",
    "    text = re.sub(r'\\.',' . ',text)\n",
    "    return text\n"
   ]
  },
  {
   "cell_type": "markdown",
   "metadata": {},
   "source": [
    "Apply the cleaning and preprocess function to remove symbols, especial characters, stopwords,.. on the training and validation datasets"
   ]
  },
  {
   "cell_type": "code",
   "execution_count": 12,
   "metadata": {},
   "outputs": [],
   "source": [
    "data['summary'] = data['summary'].apply(lambda x:preprocess(x))\n",
    "data['text'] = data['text'].apply(lambda x:preprocess(x))"
   ]
  },
  {
   "cell_type": "code",
   "execution_count": 13,
   "metadata": {},
   "outputs": [],
   "source": [
    "valid_dataset['summary'] = data['summary'].apply(lambda x:preprocess(x))\n",
    "valid_dataset['text'] = data['text'].apply(lambda x:preprocess(x))"
   ]
  },
  {
   "cell_type": "markdown",
   "metadata": {},
   "source": [
    "Show a example of the cleaned text and summary:"
   ]
  },
  {
   "cell_type": "code",
   "execution_count": 14,
   "metadata": {},
   "outputs": [
    {
     "data": {
      "text/plain": [
       "'tamil nadu government claimed reports plastic rice sold state spread panic among people fake comes food safety department carried inspections 50 shops district tanjore ensure incidents plastic rice'"
      ]
     },
     "execution_count": 14,
     "metadata": {},
     "output_type": "execute_result"
    }
   ],
   "source": [
    "data['summary'][20]\n",
    "data['text'][20]"
   ]
  },
  {
   "cell_type": "markdown",
   "metadata": {},
   "source": [
    "Next, we split our pandas dataframe to two variables, x and y, for training "
   ]
  },
  {
   "cell_type": "code",
   "execution_count": 15,
   "metadata": {},
   "outputs": [
    {
     "name": "stdout",
     "output_type": "stream",
     "text": [
      "tony chapron french referee kicked footballer sending ligue 1 game handed threemonth ban three months suspended ban ligue 1 chapron apologised actions following day incident called reaction clumsy inappropriate\n",
      "french referee kicked footballer banned 3 months\n"
     ]
    }
   ],
   "source": [
    "x = data['text']\n",
    "y = data['summary']\n",
    "print(x[50],y[50],sep='\\n')"
   ]
  },
  {
   "cell_type": "markdown",
   "metadata": {},
   "source": [
    "Set a global variable to indicate if there is a GPU available for training"
   ]
  },
  {
   "cell_type": "code",
   "execution_count": 16,
   "metadata": {},
   "outputs": [],
   "source": [
    "device = torch.device(\"cuda\" if torch.cuda.is_available() else \"cpu\")"
   ]
  },
  {
   "cell_type": "markdown",
   "metadata": {},
   "source": [
    "### Define and create the vocabularies\n",
    "\n",
    "Now we create a Vocab (vocabulary) Class to store the vocabulary, the mapping between words and its numeric representation and functions to add words and sentences to the vocabulary. There is also some function to transform a sentence to its vector representation and to transform the representation to a Torch tensor."
   ]
  },
  {
   "cell_type": "code",
   "execution_count": 17,
   "metadata": {},
   "outputs": [],
   "source": [
    "SOS_token = 0\n",
    "EOS_token = 1\n",
    "\n",
    "\n",
    "class Vocab:\n",
    "    def __init__(self, name):\n",
    "        self.name = name\n",
    "        self.word2index = {}\n",
    "        self.word2count = {}\n",
    "        self.index2word = {0: \"SOS\", 1: \"EOS\"}\n",
    "        self.n_words = 2  # Count SOS and EOS\n",
    "\n",
    "    def addSentence(self, sentence):\n",
    "        ''' Add every word in a sentence to the vocabulary '''\n",
    "        for word in sentence.split(' '):\n",
    "            self.addWord(word)\n",
    "\n",
    "    def addWord(self, word):\n",
    "        ''' Add a word to the vocabulary'''\n",
    "        if word not in self.word2index:\n",
    "            #Include the word in the mapping from word to index\n",
    "            self.word2index[word] = self.n_words\n",
    "            #Set the count of ocurrencies of the word to 1\n",
    "            self.word2count[word] = 1\n",
    "            # Include the word in the indexes\n",
    "            self.index2word[self.n_words] = word\n",
    "            # Increment by 1 the number of words\n",
    "            self.n_words += 1\n",
    "        else:\n",
    "            self.word2count[word] += 1\n",
    "            \n",
    "    def save_to_file(self, filename):\n",
    "        ''' Save the Vocab object to a file'''\n",
    "        with open(filename,'wb') as f:\n",
    "            pickle.dump(self,f) \n",
    "\n",
    "def load_vocab(filename):\n",
    "    ''' Load a Vocab instance from a file'''\n",
    "    with open(filename,'rb') as f:\n",
    "        v = pickle.load(f)\n",
    "    return v\n",
    "\n",
    "def read_vocabs(text, summary, reverse=False):\n",
    "    print(\"Reading lines...\")\n",
    "    \n",
    "    # Split every line into pairs and normalize\n",
    "    pairs = [[text[i],summary[i]] for i in range(len(text))]\n",
    "\n",
    "    # Reverse pairs, make Lang instances\n",
    "    if reverse:\n",
    "        pairs = [list(reversed(p)) for p in pairs]\n",
    "        input_lang = Vocab(summary)\n",
    "        output_lang = Vocab(text)\n",
    "    else:\n",
    "        input_lang = Vocab(text)\n",
    "        output_lang = Vocab(summary)\n",
    "\n",
    "    return input_lang, output_lang, pairs\n",
    "\n",
    "def prepare_data(lang1, lang2, reverse=False):\n",
    "    input_lang, output_lang, pairs = read_vocabs(lang1, lang2, reverse)\n",
    "    print(\"Read %s sentence pairs\" % len(pairs))\n",
    "    print(\"Counting words...\")\n",
    "    for pair in pairs:\n",
    "        input_lang.addSentence(pair[0])\n",
    "        output_lang.addSentence(pair[1])\n",
    "    print(\"Counted words:\")\n",
    "    print(input_lang.name, input_lang.n_words)\n",
    "    print(output_lang.name, output_lang.n_words)\n",
    "    return input_lang, output_lang, pairs"
   ]
  },
  {
   "cell_type": "markdown",
   "metadata": {},
   "source": [
    "Now, we need to build a vocabulary for each dataset, training and validation."
   ]
  },
  {
   "cell_type": "code",
   "execution_count": 18,
   "metadata": {},
   "outputs": [
    {
     "name": "stdout",
     "output_type": "stream",
     "text": [
      "Reading lines...\n",
      "Read 83589 sentence pairs\n",
      "Counting words...\n",
      "Counted words:\n",
      "0        digital payments startup paytm raised 1 4 bill...\n",
      "1        oil companies thursday reduced petrol price  d...\n",
      "2        indian army announced plans deploy women offic...\n",
      "3        yash raj films ceo uday chopra confirmed los a...\n",
      "4        senior samajwadi party leader ram gopal yadav ...\n",
      "                               ...                        \n",
      "83584    north korea estimated 60 nuclear weapons south...\n",
      "83585    former west indies captain sir viv richards 18...\n",
      "83586    malikaa marathe 13yearold national tennis cham...\n",
      "83587    usbased software supplier ebixs indian subsidi...\n",
      "83588    exaustralia cricketer dean jones said playing ...\n",
      "Name: text, Length: 83589, dtype: object 95677\n",
      "0        paytm raises 1 4 billion softbank largest funding\n",
      "1        petrol price cut  per litre daily revision starts\n",
      "2           army plans deploy women officers cyber warfare\n",
      "3        uday chopra confirms yrf produce jessica chast...\n",
      "4        mulayam yadav contest 2019 polls mainpuri sp l...\n",
      "                               ...                        \n",
      "83584           n korea estimated 60 nuclear weapons korea\n",
      "83585        viv richards played greatest odi innings time\n",
      "83586      girl almost lost eyesight indias top u14 player\n",
      "83587    ebix india unit buys 67 stake logistics startu...\n",
      "83588              one die dean jones indias 2 odis 2 days\n",
      "Name: summary, Length: 83589, dtype: object 39210\n",
      "['government wednesday confirmed introduction new  notes rbi first time immediate date specified new notes could reportedly introduced september  note fill missing middle even new currency circulation reached 84 predemonetisation level sbi said earlier', 'government confirms introduction new  notes']\n"
     ]
    }
   ],
   "source": [
    "# Create the vocabularies of the inout and output data and return the data in pairs of (source text, summary)\n",
    "input_lang, output_lang, pairs = prepare_data( x, y , False)\n",
    "print(random.choice(pairs))"
   ]
  },
  {
   "cell_type": "markdown",
   "metadata": {},
   "source": [
    "An important parameter we need to set is the maximum length of a sequence of text. We find out the max length in the sourfe texts and the summaries and set the max length to that value plus one."
   ]
  },
  {
   "cell_type": "code",
   "execution_count": 19,
   "metadata": {},
   "outputs": [
    {
     "name": "stdout",
     "output_type": "stream",
     "text": [
      "Max Length of Texts:  60 Max Length of Summaries:  53\n",
      "61\n"
     ]
    }
   ],
   "source": [
    "len_x_tr=[]\n",
    "len_y_tr=[]\n",
    "# For every pair Text, summary on the training dataset\n",
    "for i in pairs:\n",
    "    len_x_tr.append(len(i[0].split(' '))) # Get the count of words for the soure text\n",
    "    len_y_tr.append(len(i[1].split(' '))) # Get the count of words for the summary\n",
    "    \n",
    "# \n",
    "x_test = valid_dataset['text'].values\n",
    "y_test = valid_dataset['summary'].values\n",
    "\n",
    "len_x_val=[]\n",
    "len_y_val=[]\n",
    "# For every pair Text, summary\n",
    "for i in range(len(x_test)):\n",
    "    len_x_val.append(len(x_test[i].split(' '))) # Get the count of words for the soure text\n",
    "    len_y_val.append(len(y_test[i].split(' '))) # Get the count of words for the summary\n",
    "\n",
    "print('Max Length of Texts: ', max(len_x_tr), 'Max Length of Summaries: ',max(len_x_val))\n",
    "# Set the global variable MAX LENGTH\n",
    "MAX_LENGTH = max(max(len_x_tr), max(len_y_tr), max(len_x_val), max(len_y_val), )+1\n",
    "print(MAX_LENGTH)"
   ]
  },
  {
   "cell_type": "markdown",
   "metadata": {},
   "source": [
    "## Create the model\n",
    "\n",
    "First, we define the Encoder component of our Sequence-to-Sequence model. It will be comprised by an embedding layer and a GRU layer (Gate Recurrent Unit)."
   ]
  },
  {
   "cell_type": "code",
   "execution_count": 20,
   "metadata": {},
   "outputs": [],
   "source": [
    "class EncoderRNN(nn.Module):\n",
    "    ''' Define an encoder in a seq2seq architecture'''\n",
    "    def __init__(self, input_size, hidden_size):\n",
    "        ''' Initialize tyhe encoder instance defining its parameters:\n",
    "            Input:\n",
    "                - input_size: the size of the vocabulary\n",
    "                - hidden:size: size of the hidden layer\n",
    "        '''\n",
    "        super(EncoderRNN, self).__init__()\n",
    "        # Set the hidden size\n",
    "        self.hidden_size = hidden_size\n",
    "        # Create the embedding layer of size (vocabulary length, hidden_size) \n",
    "        self.embedding = nn.Embedding(input_size, hidden_size)\n",
    "        # Create a GRU layer\n",
    "        self.gru = nn.GRU(hidden_size, hidden_size)\n",
    "\n",
    "    def forward(self, input, hidden):\n",
    "        ''' Run a Forward pass of the encoder to return outputs\n",
    "            Input:\n",
    "                Input: a tensor element (integer) representing the next word in the sentence\n",
    "                hidden: a tensor, the previous hidden state of the encoder\n",
    "        '''\n",
    "        # Get the embedding of the input\n",
    "        embedded = self.embedding(input).view(1, 1, -1)\n",
    "        output = embedded\n",
    "        \n",
    "        # Apply a forward step of the GRU returning the output features and\n",
    "        # the hidden state of the actual time step\n",
    "        output, hidden = self.gru(output, hidden)\n",
    "        \n",
    "        return output, hidden\n",
    "\n",
    "    def initHidden(self):\n",
    "        ''' Initialize the hidden state of the encoder, tensor of zeros'''\n",
    "        return torch.zeros(1, 1, self.hidden_size, device=device)"
   ]
  },
  {
   "cell_type": "markdown",
   "metadata": {},
   "source": [
    "Next, create the decoder with attention component"
   ]
  },
  {
   "cell_type": "code",
   "execution_count": 21,
   "metadata": {},
   "outputs": [],
   "source": [
    "class AttnDecoderRNN(nn.Module):\n",
    "    ''' Define a decoder with atention in a seq2seq architecture'''\n",
    "    def __init__(self, hidden_size, output_size, dropout_p=0.1, max_length=MAX_LENGTH):\n",
    "        ''' Initialize the decoder instance defining its parameters:\n",
    "            Input:\n",
    "                - hidden_size:size: size of the hidden layer (Hyperparameter)\n",
    "                - output_size: the size of the vocabulary of the output summary\n",
    "                - dropout_p: dropout probability to apply\n",
    "                - max_length: max length (number of words) of an output or summary\n",
    "        '''\n",
    "\n",
    "        super(AttnDecoderRNN, self).__init__()\n",
    "        # Set parameters of the decoder\n",
    "        self.hidden_size = hidden_size\n",
    "        self.output_size = output_size\n",
    "        self.dropout_p = dropout_p\n",
    "        self.max_length = max_length\n",
    "\n",
    "        #Create an embedding layer for the input (output vocabulary, hidden size)\n",
    "        self.embedding = nn.Embedding(self.output_size, self.hidden_size)\n",
    "        # Create some linear layers to build the attention mechanism\n",
    "        self.attn = nn.Linear(self.hidden_size * 2, self.max_length)\n",
    "        self.attn_combine = nn.Linear(self.hidden_size * 2, self.hidden_size)\n",
    "        # A dropout layer\n",
    "        self.dropout = nn.Dropout(self.dropout_p)\n",
    "        # A GRU layer\n",
    "        self.gru = nn.GRU(self.hidden_size, self.hidden_size)\n",
    "        # A Fully-connected layer\n",
    "        self.out = nn.Linear(self.hidden_size, self.output_size)\n",
    "\n",
    "    def forward(self, input, hidden, encoder_outputs):\n",
    "        ''' Run a Forward pass of the decoder to return outputs\n",
    "            Input:\n",
    "                Input: a tensor element (integer) representing the previous output of the decoder\n",
    "                hidden: a tensor, the previous hidden state of the decoder\n",
    "                Encoder outputs: a tensor, outputs of the encoder\n",
    "        '''\n",
    "        \n",
    "        #Get the embedding representation of the input\n",
    "        embedded = self.embedding(input).view(1, 1, -1)\n",
    "        # Apply dropout \n",
    "        embedded = self.dropout(embedded)\n",
    "        #Calculate the attention weights of the attention mechanism using the encoder states\n",
    "        #in previous time steps\n",
    "        attn_weights = F.softmax(\n",
    "            self.attn(torch.cat((embedded[0], hidden[0]), 1)), dim=1)\n",
    "        \n",
    "        #Calculate the context vectors fo the attention mechanism using the attention weights\n",
    "        # and the encoder outputs\n",
    "        attn_applied = torch.bmm(attn_weights.unsqueeze(0),\n",
    "                                 encoder_outputs.unsqueeze(0))\n",
    "        output = torch.cat((embedded[0], attn_applied[0]), 1)\n",
    "        output = self.attn_combine(output).unsqueeze(0)\n",
    "        output = F.relu(output)\n",
    "        \n",
    "        # Apply a forward pass to the GRU layer of the decider using the output from the attention\n",
    "        # as input and the hidden state\n",
    "        output, hidden = self.gru(output, hidden)\n",
    "        output = F.log_softmax(self.out(output[0]), dim=1)\n",
    "        # return the output features, the hidden state and the attention weights\n",
    "        return output, hidden, attn_weights\n",
    "\n",
    "    def initHidden(self):\n",
    "        ''' Initialize the hidden state of the encoder, tensor of zeros'''\n",
    "        return torch.zeros(1, 1, self.hidden_size, device=device)"
   ]
  },
  {
   "cell_type": "markdown",
   "metadata": {},
   "source": [
    "## Define the steps of the training process\n",
    "\n",
    "First, we create functions to help us to handle and transform the text input data to tensor datatype requiered to train"
   ]
  },
  {
   "cell_type": "code",
   "execution_count": 22,
   "metadata": {},
   "outputs": [],
   "source": [
    "def indexesFromSentence(lang, sentence):\n",
    "    ''' Transform a sentence in string format to a list of indexes or integers.\n",
    "            The model need to be feeded with numbers, not characters\n",
    "            Input:\n",
    "                - sentence: a string\n",
    "            Output:\n",
    "                - a list of integers, the representation of the sentence in the vector space.\n",
    "    '''\n",
    "    return [lang.word2index[word] for word in sentence.split(' ')]\n",
    "\n",
    "\n",
    "def tensorFromSentence(lang, sentence):\n",
    "    ''' Transform a sentence in string format to tensor of indexes or integers.\n",
    "            Out pytorch model work with tensor objects\n",
    "            Input:\n",
    "                - sentence: a string\n",
    "            Output:\n",
    "                - a tensor of integers, the representation of the sentence in the vector space.\n",
    "    '''\n",
    "    indexes = indexesFromSentence(lang, sentence)\n",
    "    indexes.append(EOS_token)\n",
    "    return torch.tensor(indexes, dtype=torch.long, device=device).view(-1, 1)\n",
    "\n",
    "\n",
    "def tensorsFromPair(pair):\n",
    "    ''' Convert a pair of text data (source text, summary) to tensors\n",
    "        Input:\n",
    "        - pair: tuple of strings, the source text and its summary\n",
    "        Output:\n",
    "        - tuple of tensors, the input tensor and the outout one\n",
    "    '''\n",
    "    # Convert the source text to the input tensor\n",
    "    input_tensor = tensorFromSentence(input_lang, pair[0])\n",
    "    # Convert the summary to the output tensor\n",
    "    target_tensor = tensorFromSentence(output_lang, pair[1])\n",
    "    return (input_tensor, target_tensor)"
   ]
  },
  {
   "cell_type": "markdown",
   "metadata": {},
   "source": [
    "We will apply Teacher forcing, a method for quickly and efficiently training recurrent neural network models that use the ground truth from a prior time step as input, that is, using the actual or expected output from the training dataset at the current time step y(t) as input in the next time step X(t+1), rather than the output generated by the network \n",
    "\n",
    "First we define the probability of applying teacher forcing."
   ]
  },
  {
   "cell_type": "code",
   "execution_count": 23,
   "metadata": {},
   "outputs": [],
   "source": [
    "teacher_forcing_ratio = 0.5"
   ]
  },
  {
   "cell_type": "markdown",
   "metadata": {},
   "source": [
    "This function execute a training step where we provide an input and target tensor and apply the algorithm on it. "
   ]
  },
  {
   "cell_type": "code",
   "execution_count": 24,
   "metadata": {},
   "outputs": [],
   "source": [
    "def train(input_tensor, target_tensor, encoder, decoder, encoder_optimizer, decoder_optimizer, criterion, max_length=MAX_LENGTH):\n",
    "    ''' Run all the steps in the training phase of a batch of examples\n",
    "        Input:\n",
    "        - input_tensor: a tensor, vector representation of the input text\n",
    "        - target_tensor: a tensor, vector representation of the expect or labelled output or summary\n",
    "        - encoder: a Class Encoder object, the encoder\n",
    "        - decoder: a Class AttnDecoder object, the decoder\n",
    "        - encoder_optimizer: a torch optimizer, the optimizer of the encoder\n",
    "        - decoer_optimizer: a torch optimizer, the optimizer of the decoder\n",
    "        - criterion: a pytoch loss function\n",
    "        - max_length: an integer, maximun length of an output\n",
    "    '''\n",
    "    #Init the encoder hidden state\n",
    "    encoder_hidden = encoder.initHidden()\n",
    "    \n",
    "    # Reset the optimizer\n",
    "    encoder_optimizer.zero_grad()\n",
    "    decoder_optimizer.zero_grad()\n",
    "    # Set the length if the source text and the summary\n",
    "    input_length = input_tensor.size(0)\n",
    "    target_length = target_tensor.size(0)\n",
    "    # Create the initial encoder output, all zeros\n",
    "    encoder_outputs = torch.zeros(max_length, encoder.hidden_size, device=device)\n",
    "\n",
    "    loss = 0\n",
    "    # For every token in the source text or inout\n",
    "    for ei in range(input_length):\n",
    "        # Forward pass of the encoder to get the encoder output and hidden state\n",
    "        encoder_output, encoder_hidden = encoder(\n",
    "            input_tensor[ei], encoder_hidden)\n",
    "        encoder_outputs[ei] = encoder_output[0, 0]\n",
    "        \n",
    "    # Set the initial decoder input as the SOS token\n",
    "    decoder_input = torch.tensor([[SOS_token]], device=device)\n",
    "    #Set the initial decoder hidden state equals to the last encoder hidden state\n",
    "    decoder_hidden = encoder_hidden\n",
    "\n",
    "    # Active teacher forcing with probability teacher_forcing_ratio \n",
    "    use_teacher_forcing = True if random.random() < teacher_forcing_ratio else False\n",
    "    if use_teacher_forcing:\n",
    "        # Teacher forcing: Feed the target as the next input\n",
    "        for di in range(target_length):\n",
    "            # Forward pass of the decoder returning the decoder output, hidden state and context vector\n",
    "            # of the attention mechanism\n",
    "            decoder_output, decoder_hidden, decoder_attention = decoder(\n",
    "                decoder_input, decoder_hidden, encoder_outputs)\n",
    "            # Increment the loss function by the loss of the decoder output in the actual time step\n",
    "            loss += criterion(decoder_output, target_tensor[di])\n",
    "            decoder_input = target_tensor[di]  # Teacher forcing\n",
    "\n",
    "    else:\n",
    "        # Without teacher forcing: use its own predictions as the next input\n",
    "        for di in range(target_length):\n",
    "            # Forward pass of the decoder returning the decoder output, hidden state and context vector\n",
    "            # of the attention mechanism\n",
    "            decoder_output, decoder_hidden, decoder_attention = decoder(\n",
    "                decoder_input, decoder_hidden, encoder_outputs)\n",
    "             # Select the decoder output with the highest probability\n",
    "            topv, topi = decoder_output.topk(1)\n",
    "            decoder_input = topi.squeeze().detach()  # detach from history as input\n",
    "            # Increment the loss function by the loss of the decoder output in the actual time step\n",
    "            loss += criterion(decoder_output, target_tensor[di])\n",
    "            # Stop training if the EOS token is returned\n",
    "            if decoder_input.item() == EOS_token:\n",
    "                break\n",
    "   # Apply the backward pass to calculate and propagate the loss\n",
    "    loss.backward()\n",
    "    # Apply a step of the optimizers\n",
    "    encoder_optimizer.step()\n",
    "    decoder_optimizer.step()\n",
    "    \n",
    "    # Return the final loss\n",
    "    return loss.item() / target_length"
   ]
  },
  {
   "cell_type": "markdown",
   "metadata": {},
   "source": [
    "Some helpers function to show the progress and losses during training"
   ]
  },
  {
   "cell_type": "code",
   "execution_count": 25,
   "metadata": {},
   "outputs": [],
   "source": [
    "import time\n",
    "import math\n",
    "\n",
    "\n",
    "def asMinutes(s):\n",
    "    ''' Return the seconds, s, to a string in the format: Xm Ys'''\n",
    "    m = math.floor(s / 60)\n",
    "    s -= m * 60\n",
    "    return '%dm %ds' % (m, s)\n",
    "\n",
    "def timeSince(since, percent):\n",
    "    ''' Return '''\n",
    "    now = time.time()\n",
    "    s = now - since\n",
    "    es = s / (percent)\n",
    "    rs = es - s\n",
    "    return '%s (- %s)' % (asMinutes(s), asMinutes(rs))\n",
    "\n",
    "def showPlot(points):\n",
    "    ''' Plot the points in a line graph to show a training metric'''\n",
    "    plt.figure()\n",
    "    fig, ax = plt.subplots()\n",
    "    # this locator puts ticks at regular intervals\n",
    "    loc = ticker.MultipleLocator(base=0.2)\n",
    "    ax.yaxis.set_major_locator(loc)\n",
    "    plt.plot(points)"
   ]
  },
  {
   "cell_type": "markdown",
   "metadata": {},
   "source": [
    "The next function describes the training process, iterating over the number of epochs"
   ]
  },
  {
   "cell_type": "code",
   "execution_count": 26,
   "metadata": {},
   "outputs": [],
   "source": [
    "def trainIters(encoder, decoder, n_iters, print_every=1000, plot_every=100, learning_rate=0.01):\n",
    "    ''' Train a encoder-decoder model on the input x for n_iters iterations\n",
    "        Input:\n",
    "        - encoder: a Class Encoder object, the encoder\n",
    "        - decoder: a Class AttnDecoder object, the decoder\n",
    "        - x: array of strings, source texts of the training dataset\n",
    "        - y: array of strings, target texts or summaries of the training dataset\n",
    "        - vocab_input: a Vocab Class object, vocabulary of the source texts\n",
    "        - vocab_output: a Vocab Class object, vocabulary of the target texts\n",
    "        - n_iters: integer, number of iterations\n",
    "        - print_every: integer, print the progress every print_every iteration\n",
    "        - plot_every: integer, plot the losses every plot_every iteration\n",
    "        - learning_rate: float, learning rate\n",
    "    '''\n",
    "\n",
    "    print(\"Training....\")\n",
    "    # Get the current time\n",
    "    start = time.time()\n",
    "    # Initialize variables for progress tracking\n",
    "    plot_losses = []\n",
    "    print_loss_total = 0  # Reset every print_every\n",
    "    plot_loss_total = 0  # Reset every plot_every\n",
    "    # Create the optimizer for the encoder and the decoder\n",
    "    encoder_optimizer = optim.SGD(encoder.parameters(), lr=learning_rate)\n",
    "    decoder_optimizer = optim.SGD(decoder.parameters(), lr=learning_rate)\n",
    "    # Extract the training set randomly for all the iterations\n",
    "    training_pairs = [tensorsFromPair(random.choice(pairs))\n",
    "                      for i in range(n_iters)]\n",
    "    # Set the function loss to apply\n",
    "    criterion = nn.NLLLoss()\n",
    "\n",
    "    for iter in range(1, n_iters + 1):\n",
    "        if iter% 1000 == 0:\n",
    "            print(iter,\"/\",n_iters + 1) # Plot progress\n",
    "            \n",
    "        # Get the next pair of source text and target to train on\n",
    "        training_pair = training_pairs[iter - 1]\n",
    "        input_tensor = training_pair[0]\n",
    "        target_tensor = training_pair[1]\n",
    "        # Train on the pair of data selected\n",
    "        loss = train(input_tensor, target_tensor, encoder,\n",
    "                     decoder, encoder_optimizer, decoder_optimizer, criterion)\n",
    "        # Set the variable to plot the progress\n",
    "        print_loss_total += loss\n",
    "        plot_loss_total += loss\n",
    "\n",
    "        if iter % print_every == 0:\n",
    "            # Print the ETA and current loss\n",
    "            print_loss_avg = print_loss_total / print_every\n",
    "            print_loss_total = 0\n",
    "            print('%s (%d %d%%) %.4f' % (timeSince(start, iter / n_iters),\n",
    "                                         iter, iter / n_iters * 100, print_loss_avg))\n",
    "\n",
    "        if iter % plot_every == 0:\n",
    "            # Plot the current loss\n",
    "            plot_loss_avg = plot_loss_total / plot_every\n",
    "            plot_losses.append(plot_loss_avg)\n",
    "            plot_loss_total = 0\n",
    "\n",
    "    showPlot(plot_losses)"
   ]
  },
  {
   "cell_type": "markdown",
   "metadata": {},
   "source": [
    "### Evaluate or predict function"
   ]
  },
  {
   "cell_type": "code",
   "execution_count": 27,
   "metadata": {},
   "outputs": [],
   "source": [
    "def predict(encoder, decoder, sentence, input_lang, output_lang, max_length=MAX_LENGTH):\n",
    "    ''' Function to predict the summary of the source text sentence with a max length\n",
    "        Input:\n",
    "        - encoder: a Class Encoder object, the encoder\n",
    "        - decoder: a Class AttnDecoder object, the decoder\n",
    "        - vocab_input: a Vocab Class object, vocabulary of the source texts\n",
    "        - vocab_output: a Vocab Class object, vocabulary of the target texts\n",
    "        - sentence: string, source text to predict\n",
    "\n",
    "    '''\n",
    "    with torch.no_grad():\n",
    "        # Get the tensor of the source text\n",
    "        input_tensor = tensorFromSentence(input_lang, sentence)\n",
    "        # Calculate the length of the source text\n",
    "        input_length = input_tensor.size()[0]\n",
    "        # Set the initial hidden state of the encoder\n",
    "        encoder_hidden = encoder.initHidden()\n",
    "        # Set the initial encoder outputs\n",
    "        encoder_outputs = torch.zeros(max_length, encoder.hidden_size, device=device)\n",
    "        # For every word in the input\n",
    "        for ei in range(input_length):\n",
    "            # Forward pass of the encoder\n",
    "            encoder_output, encoder_hidden = encoder(input_tensor[ei],\n",
    "                                                     encoder_hidden)\n",
    "            encoder_outputs[ei] += encoder_output[0, 0]\n",
    "        # Set the initial input of the decoder \n",
    "        decoder_input = torch.tensor([[SOS_token]], device=device)  # SOS\n",
    "        # Set the initial hidden state of the decoder to the hidden state of the decoder in the last time step\n",
    "        decoder_hidden = encoder_hidden\n",
    "\n",
    "        decoded_words = []\n",
    "        # Set the initial context vectors of the decoder to zeros\n",
    "        decoder_attentions = torch.zeros(max_length, max_length)\n",
    "        # For every word or step in the output sequence\n",
    "        for di in range(max_length):\n",
    "            # Forward pass of the decoder\n",
    "            decoder_output, decoder_hidden, decoder_attention = decoder(\n",
    "                decoder_input, decoder_hidden, encoder_outputs)\n",
    "            # Save the decoder attention vector of the step\n",
    "            decoder_attentions[di] = decoder_attention.data\n",
    "            # Get the element in the decoder output with the highest probability (the best output)\n",
    "            topv, topi = decoder_output.data.topk(1)\n",
    "            # If the token returned is EOS then finish\n",
    "            if topi.item() == EOS_token:\n",
    "                decoded_words.append('<EOS>')\n",
    "                break\n",
    "            else:\n",
    "                # Append the token in the summary returned by the decoder\n",
    "                decoded_words.append(output_lang.index2word[topi.item()])\n",
    "            # Set the decoder input to the output selected\n",
    "            decoder_input = topi.squeeze().detach()\n",
    "\n",
    "        return decoded_words, decoder_attentions[:di + 1]"
   ]
  },
  {
   "cell_type": "markdown",
   "metadata": {},
   "source": [
    "The next function will generate the predictions for a set of source texts to be evaluated"
   ]
  },
  {
   "cell_type": "code",
   "execution_count": 28,
   "metadata": {},
   "outputs": [],
   "source": [
    "def generate_predictions(x_test, encoder, decoder, input_vocab, output_vocab, max_length, print_every=20):\n",
    "    ''' Generate the predicted summaries of the source texts on x_test\n",
    "        Input:\n",
    "        - x_test: list of strings, the source texts\n",
    "        - encoder: a Class Encoder object, the encoder\n",
    "        - decoder: a Class AttnDecoder object, the decoder\n",
    "        - input_vocab: a Vocab Class object, vocabulary of the source texts\n",
    "        - output_vocab: a Vocab Class object, vocabulary of the target texts\n",
    "        - max_length: integer, max length of the output summary\n",
    "        - print_every: integer, print progress every print_every iterations\n",
    "    '''\n",
    "    predicted_summaries = []\n",
    "    # Set a progress bar\n",
    "    #kbar = pkbar.Kbar(target=len(x_test), width=8)\n",
    "    # Para cada text or document in the validation dataset\n",
    "    for i,doc in enumerate(x_test):\n",
    "        # Predict the summary for the document\n",
    "        #pred_summ = predict(doc,vocab,params,batch_size=1)\n",
    "        pred_summ,_ = predict(encoder, decoder, doc, input_vocab, output_vocab, max_length)\n",
    "        predicted_summaries.append(' '.join(pred_summ[:-1]))\n",
    "        #predicted_summaries.append(' '.join(pred_summ))\n",
    "        \n",
    "        #if i%print_every==0:\n",
    "        #    kbar.update(i)\n",
    "            \n",
    "    # Set teh labeled summaries as the y_test variable, column summary of our dataset\n",
    "    return predicted_summaries\n"
   ]
  },
  {
   "cell_type": "code",
   "execution_count": 29,
   "metadata": {},
   "outputs": [],
   "source": [
    "def evaluateRandomly(encoder, decoder, n=10):\n",
    "    for i in range(n):\n",
    "        pair = random.choice(pairs)\n",
    "        print('>', pair[0])\n",
    "        print('=', pair[1])\n",
    "        output_words, attentions = predict(encoder, decoder, pair[0])\n",
    "        output_sentence = ' '.join(output_words)\n",
    "        print('<', output_sentence)\n",
    "        print('')"
   ]
  },
  {
   "cell_type": "markdown",
   "metadata": {},
   "source": [
    "## Training the model\n",
    "\n",
    "It is time to train our model, setting the hidden size in 100, the iterations in 150000"
   ]
  },
  {
   "cell_type": "code",
   "execution_count": 39,
   "metadata": {},
   "outputs": [
    {
     "name": "stdout",
     "output_type": "stream",
     "text": [
      "Training....\n",
      "1000 / 75001\n",
      "2000 / 75001\n",
      "3000 / 75001\n",
      "4000 / 75001\n",
      "5000 / 75001\n",
      "3m 26s (- 48m 4s) (5000 6%) 7.0141\n",
      "6000 / 75001\n",
      "7000 / 75001\n",
      "8000 / 75001\n",
      "9000 / 75001\n",
      "10000 / 75001\n",
      "6m 51s (- 44m 33s) (10000 13%) 7.1869\n",
      "11000 / 75001\n",
      "12000 / 75001\n",
      "13000 / 75001\n",
      "14000 / 75001\n",
      "15000 / 75001\n",
      "10m 13s (- 40m 55s) (15000 20%) 7.0727\n",
      "16000 / 75001\n",
      "17000 / 75001\n",
      "18000 / 75001\n",
      "19000 / 75001\n",
      "20000 / 75001\n",
      "13m 38s (- 37m 31s) (20000 26%) 7.0824\n",
      "21000 / 75001\n",
      "22000 / 75001\n",
      "23000 / 75001\n",
      "24000 / 75001\n",
      "25000 / 75001\n",
      "17m 2s (- 34m 4s) (25000 33%) 7.0924\n",
      "26000 / 75001\n",
      "27000 / 75001\n",
      "28000 / 75001\n",
      "29000 / 75001\n",
      "30000 / 75001\n",
      "20m 25s (- 30m 37s) (30000 40%) 7.0620\n",
      "31000 / 75001\n",
      "32000 / 75001\n",
      "33000 / 75001\n",
      "34000 / 75001\n",
      "35000 / 75001\n",
      "23m 48s (- 27m 12s) (35000 46%) 6.9544\n",
      "36000 / 75001\n",
      "37000 / 75001\n",
      "38000 / 75001\n",
      "39000 / 75001\n",
      "40000 / 75001\n",
      "27m 11s (- 23m 47s) (40000 53%) 7.0051\n",
      "41000 / 75001\n",
      "42000 / 75001\n",
      "43000 / 75001\n",
      "44000 / 75001\n",
      "45000 / 75001\n",
      "30m 36s (- 20m 24s) (45000 60%) 6.9072\n",
      "46000 / 75001\n",
      "47000 / 75001\n",
      "48000 / 75001\n",
      "49000 / 75001\n",
      "50000 / 75001\n",
      "34m 0s (- 17m 0s) (50000 66%) 6.9554\n",
      "51000 / 75001\n",
      "52000 / 75001\n",
      "53000 / 75001\n",
      "54000 / 75001\n",
      "55000 / 75001\n",
      "37m 23s (- 13m 35s) (55000 73%) 6.8884\n",
      "56000 / 75001\n",
      "57000 / 75001\n",
      "58000 / 75001\n",
      "59000 / 75001\n",
      "60000 / 75001\n",
      "40m 48s (- 10m 12s) (60000 80%) 6.8129\n",
      "61000 / 75001\n",
      "62000 / 75001\n",
      "63000 / 75001\n",
      "64000 / 75001\n",
      "65000 / 75001\n",
      "44m 12s (- 6m 48s) (65000 86%) 6.7826\n",
      "66000 / 75001\n",
      "67000 / 75001\n",
      "68000 / 75001\n",
      "69000 / 75001\n",
      "70000 / 75001\n",
      "47m 37s (- 3m 24s) (70000 93%) 6.7500\n",
      "71000 / 75001\n",
      "72000 / 75001\n",
      "73000 / 75001\n",
      "74000 / 75001\n",
      "75000 / 75001\n",
      "51m 2s (- 0m 0s) (75000 100%) 6.7650\n"
     ]
    },
    {
     "data": {
      "text/plain": [
       "<Figure size 432x288 with 0 Axes>"
      ]
     },
     "metadata": {},
     "output_type": "display_data"
    },
    {
     "data": {
      "image/png": "[encoded data removed]",
      "text/plain": [
       "<Figure size 432x288 with 1 Axes>"
      ]
     },
     "metadata": {
      "needs_background": "light"
     },
     "output_type": "display_data"
    }
   ],
   "source": [
    "hidden_size = 100\n",
    "encoder1 = EncoderRNN(input_lang.n_words, hidden_size).to(device)\n",
    "attn_decoder1 = AttnDecoderRNN(hidden_size, output_lang.n_words, dropout_p=0.2).to(device)\n",
    "\n",
    "trainIters(encoder1, attn_decoder1, 75000, print_every=5000)"
   ]
  },
  {
   "cell_type": "markdown",
   "metadata": {},
   "source": [
    "Once the model is trained we will save it, we can use it in the future to make predictions. We need to save the encoder, the decoder and the input and output vocabularies."
   ]
  },
  {
   "cell_type": "code",
   "execution_count": 40,
   "metadata": {},
   "outputs": [],
   "source": [
    "torch.save(encoder1.state_dict(), './enc.w')\n",
    "torch.save(attn_decoder1.state_dict(), './att.w')\n",
    "# Save the vocabularies\n",
    "input_lang.save_to_file('input_vocab.pkl')\n",
    "output_lang.save_to_file('output_vocab.pkl')"
   ]
  },
  {
   "cell_type": "code",
   "execution_count": 41,
   "metadata": {},
   "outputs": [],
   "source": [
    "# Load the vocabularies, \n",
    "#input_vocab= load_vocab('input_vocab.pkl')\n",
    "#output_vocab= load_vocab('output_vocab.pkl')"
   ]
  },
  {
   "cell_type": "code",
   "execution_count": 42,
   "metadata": {},
   "outputs": [],
   "source": [
    "# Uncomment and execute if you want to show some results quickly\n",
    "#evaluateRandomly(encoder1, attn_decoder1)"
   ]
  },
  {
   "cell_type": "markdown",
   "metadata": {},
   "source": [
    "## Evaluate the model\n",
    "\n",
    "We predict the summary for every text in our validation dataset and then we can compare them to the targeted summary. We also calculate the Rouge metrics and visualize the results"
   ]
  },
  {
   "cell_type": "code",
   "execution_count": 43,
   "metadata": {},
   "outputs": [],
   "source": [
    "x_test = valid_dataset['text'].values\n",
    "y_test = valid_dataset['summary'].values\n",
    "# Generate the predctions on the validation dataset\n",
    "predicted_summaries = generate_predictions(x_test, encoder1, attn_decoder1, input_lang, output_lang, MAX_LENGTH, 100)\n",
    "# Set teh labeled summaries as the y_test variable, column summary of our dataset\n",
    "labeled_summaries = y_test\n",
    "#print(len(x_test), len(labeled_summaries), len(predicted_summaries))"
   ]
  },
  {
   "cell_type": "markdown",
   "metadata": {},
   "source": [
    "Show some results"
   ]
  },
  {
   "cell_type": "code",
   "execution_count": 44,
   "metadata": {},
   "outputs": [
    {
     "name": "stdout",
     "output_type": "stream",
     "text": [
      "\n",
      " Pred:  man man found found found \n",
      " Target:  mika singh daler mehndis elder brother amarjeet passes away\n",
      "\n",
      " Pred:  man man found dead \n",
      " Target:  sunfeast farmlite made aashirvaad atta 0 maida\n",
      "\n",
      " Pred:  man kapoor shares pic \n",
      " Target:  take tremendous pride woman colour priyanka\n",
      "\n",
      " Pred:  delhi police arrested delhi delhi \n",
      " Target:  swine flu toll rises 17 odisha\n",
      "\n",
      " Pred:  india bans pak pak pak \n",
      " Target:  rafale aircraft capable waiting iaf vice chief\n"
     ]
    }
   ],
   "source": [
    "print('\\n Pred: ',predicted_summaries[100],'\\n Target: ', labeled_summaries[100])\n",
    "print('\\n Pred: ',predicted_summaries[200],'\\n Target: ', labeled_summaries[200])\n",
    "print('\\n Pred: ',predicted_summaries[300],'\\n Target: ', labeled_summaries[300])\n",
    "print('\\n Pred: ',predicted_summaries[400],'\\n Target: ', labeled_summaries[400])\n",
    "print('\\n Pred: ',predicted_summaries[500],'\\n Target: ', labeled_summaries[500])"
   ]
  },
  {
   "cell_type": "markdown",
   "metadata": {},
   "source": [
    "Lets evaluate with the ROUGE metric"
   ]
  },
  {
   "cell_type": "code",
   "execution_count": 45,
   "metadata": {},
   "outputs": [],
   "source": [
    "def save_textfile(filename, strings):\n",
    "    ''' Save the contect of a list of strings to a file called filename\n",
    "    \n",
    "        Input:\n",
    "           - filename: name of the file to save the strings\n",
    "           - strings: a list of string to save to disk\n",
    "    '''\n",
    "    \n",
    "    with open(filename, 'w') as f:\n",
    "        for item in strings:\n",
    "            #Remove any \\n in the string\n",
    "            item = remove_CTL(item)\n",
    "            f.write(\"%s\\n\" % item)\n",
    "\n",
    "def eval_metrics(preds, targets, avg=True):\n",
    "    ''' Evaluate the ROUGE metrics ROUGE-2 and ROUGE-L for every pair predicted summary - target summary\n",
    "    \n",
    "        Input:\n",
    "           - preds: list of strings, predicted summaries\n",
    "           - targets: list of string, target summaries\n",
    "        Output:\n",
    "            - rouge2_f_metric: list of float, the Rouge-2 fscore for every predicted summary\n",
    "            - rougel_f_metric: list of float, the Rouge-L fscore for every predicted summary\n",
    "    '''\n",
    "    #Lets calculate the rouge metrics for every document\n",
    "    rouge = Rouge()\n",
    "    scores = rouge.get_scores(preds, targets, avg)\n",
    "    # Create the output variables\n",
    "    if avg:\n",
    "        rouge2_f_metric = scores['rouge-2']['f']\n",
    "        rouge2_p_metric = scores['rouge-2']['p']\n",
    "        rouge2_r_metric = scores['rouge-2']['r']\n",
    "        rougel_f_metric = scores['rouge-l']['f']\n",
    "        rougel_p_metric = scores['rouge-l']['p']\n",
    "        rougel_r_metric = scores['rouge-l']['r']\n",
    "    else:\n",
    "        rouge2_f_metric = [score['rouge-2']['f'] for score in scores]\n",
    "        rouge2_p_metric = [score['rouge-2']['p'] for score in scores]\n",
    "        rouge2_r_metric = [score['rouge-2']['r'] for score in scores]\n",
    "        rougel_f_metric = [score['rouge-l']['f'] for score in scores]\n",
    "        rougel_p_metric = [score['rouge-l']['p'] for score in scores]\n",
    "        rougel_r_metric = [score['rouge-l']['r'] for score in scores]\n",
    "\n",
    "       \n",
    "    \n",
    "    return rouge2_f_metric, rouge2_p_metric, rouge2_r_metric, rougel_f_metric, rougel_p_metric, rougel_r_metric"
   ]
  },
  {
   "cell_type": "markdown",
   "metadata": {},
   "source": [
    "Now, we can calculate the Rouge-2 and Rouge-L metrics for the validation dataset "
   ]
  },
  {
   "cell_type": "code",
   "execution_count": 46,
   "metadata": {},
   "outputs": [
    {
     "name": "stdout",
     "output_type": "stream",
     "text": [
      "Mean Rouge-2 FScore:  0.004118184491251278 Mean Rouge-L FScore:  0.06175245430535315\n"
     ]
    }
   ],
   "source": [
    "# Calculate the Rouge-2 and Rouge-L metrics for the validation dataset\n",
    "r2_f, r2_p, r2_r, rl_f, rl_p, rl_r = eval_metrics(predicted_summaries, list(labeled_summaries), False)\n",
    "print('Mean Rouge-2 FScore: ',np.mean(r2_f), 'Mean Rouge-L FScore: ',np.mean(rl_f))\n",
    "#Store the results on the dataframe\n",
    "valid_dataset['pred_summary'] = predicted_summaries\n",
    "valid_dataset['rouge2-f'] = r2_f\n",
    "valid_dataset['rouge2-p'] = r2_p\n",
    "valid_dataset['rouge2-r'] = r2_r\n",
    "valid_dataset['rougel-f'] = rl_f\n",
    "valid_dataset['rougel-p'] = rl_p\n",
    "valid_dataset['rougel-r'] = rl_r"
   ]
  },
  {
   "cell_type": "code",
   "execution_count": 47,
   "metadata": {},
   "outputs": [
    {
     "data": {
      "text/html": [
       "<div>\n",
       "<style scoped>\n",
       "    .dataframe tbody tr th:only-of-type {\n",
       "        vertical-align: middle;\n",
       "    }\n",
       "\n",
       "    .dataframe tbody tr th {\n",
       "        vertical-align: top;\n",
       "    }\n",
       "\n",
       "    .dataframe thead th {\n",
       "        text-align: right;\n",
       "    }\n",
       "</style>\n",
       "<table border=\"1\" class=\"dataframe\">\n",
       "  <thead>\n",
       "    <tr style=\"text-align: right;\">\n",
       "      <th></th>\n",
       "      <th>summary</th>\n",
       "      <th>text</th>\n",
       "      <th>pred_summary</th>\n",
       "      <th>rouge2-f</th>\n",
       "      <th>rouge2-p</th>\n",
       "      <th>rouge2-r</th>\n",
       "      <th>rougel-f</th>\n",
       "      <th>rougel-p</th>\n",
       "      <th>rougel-r</th>\n",
       "    </tr>\n",
       "  </thead>\n",
       "  <tbody>\n",
       "    <tr>\n",
       "      <td>0</td>\n",
       "      <td>paytm raises 1 4 billion softbank largest funding</td>\n",
       "      <td>digital payments startup paytm raised 1 4 bill...</td>\n",
       "      <td>startup startup startup raises raises raises</td>\n",
       "      <td>0.0</td>\n",
       "      <td>0.0</td>\n",
       "      <td>0.0</td>\n",
       "      <td>0.2</td>\n",
       "      <td>0.5</td>\n",
       "      <td>0.125</td>\n",
       "    </tr>\n",
       "    <tr>\n",
       "      <td>1</td>\n",
       "      <td>petrol price cut per litre daily revision starts</td>\n",
       "      <td>oil companies thursday reduced petrol price di...</td>\n",
       "      <td>india india india india india</td>\n",
       "      <td>0.0</td>\n",
       "      <td>0.0</td>\n",
       "      <td>0.0</td>\n",
       "      <td>0.0</td>\n",
       "      <td>0.0</td>\n",
       "      <td>0.000</td>\n",
       "    </tr>\n",
       "    <tr>\n",
       "      <td>2</td>\n",
       "      <td>army plans deploy women officers cyber warfare</td>\n",
       "      <td>indian army announced plans deploy women offic...</td>\n",
       "      <td>amazon killed 2 lakh</td>\n",
       "      <td>0.0</td>\n",
       "      <td>0.0</td>\n",
       "      <td>0.0</td>\n",
       "      <td>0.0</td>\n",
       "      <td>0.0</td>\n",
       "      <td>0.000</td>\n",
       "    </tr>\n",
       "    <tr>\n",
       "      <td>3</td>\n",
       "      <td>uday chopra confirms yrf produce jessica chast...</td>\n",
       "      <td>yash raj films ceo uday chopra confirmed los a...</td>\n",
       "      <td>new bans take new</td>\n",
       "      <td>0.0</td>\n",
       "      <td>0.0</td>\n",
       "      <td>0.0</td>\n",
       "      <td>0.0</td>\n",
       "      <td>0.0</td>\n",
       "      <td>0.000</td>\n",
       "    </tr>\n",
       "    <tr>\n",
       "      <td>4</td>\n",
       "      <td>mulayam yadav contest 2019 polls mainpuri sp l...</td>\n",
       "      <td>senior samajwadi party leader ram gopal yadav ...</td>\n",
       "      <td>bjp bjp bjp bjp bjp</td>\n",
       "      <td>0.0</td>\n",
       "      <td>0.0</td>\n",
       "      <td>0.0</td>\n",
       "      <td>0.0</td>\n",
       "      <td>0.0</td>\n",
       "      <td>0.000</td>\n",
       "    </tr>\n",
       "  </tbody>\n",
       "</table>\n",
       "</div>"
      ],
      "text/plain": [
       "                                             summary  \\\n",
       "0  paytm raises 1 4 billion softbank largest funding   \n",
       "1   petrol price cut per litre daily revision starts   \n",
       "2     army plans deploy women officers cyber warfare   \n",
       "3  uday chopra confirms yrf produce jessica chast...   \n",
       "4  mulayam yadav contest 2019 polls mainpuri sp l...   \n",
       "\n",
       "                                                text  \\\n",
       "0  digital payments startup paytm raised 1 4 bill...   \n",
       "1  oil companies thursday reduced petrol price di...   \n",
       "2  indian army announced plans deploy women offic...   \n",
       "3  yash raj films ceo uday chopra confirmed los a...   \n",
       "4  senior samajwadi party leader ram gopal yadav ...   \n",
       "\n",
       "                                   pred_summary  rouge2-f  rouge2-p  rouge2-r  \\\n",
       "0  startup startup startup raises raises raises       0.0       0.0       0.0   \n",
       "1                 india india india india india       0.0       0.0       0.0   \n",
       "2                          amazon killed 2 lakh       0.0       0.0       0.0   \n",
       "3                             new bans take new       0.0       0.0       0.0   \n",
       "4                           bjp bjp bjp bjp bjp       0.0       0.0       0.0   \n",
       "\n",
       "   rougel-f  rougel-p  rougel-r  \n",
       "0       0.2       0.5     0.125  \n",
       "1       0.0       0.0     0.000  \n",
       "2       0.0       0.0     0.000  \n",
       "3       0.0       0.0     0.000  \n",
       "4       0.0       0.0     0.000  "
      ]
     },
     "execution_count": 47,
     "metadata": {},
     "output_type": "execute_result"
    }
   ],
   "source": [
    "valid_dataset.to_csv('results.csv', index=False)\n",
    "valid_dataset.head(5)"
   ]
  },
  {
   "cell_type": "markdown",
   "metadata": {},
   "source": [
    "## Visualizing the results\n",
    "\n",
    "We are going to plotting the distribution of the Rouge-2 and Rouge-L values in the training and validation datasets"
   ]
  },
  {
   "cell_type": "code",
   "execution_count": 48,
   "metadata": {},
   "outputs": [
    {
     "data": {
      "text/plain": [
       "<matplotlib.axes._subplots.AxesSubplot at 0x7f0572dda4a8>"
      ]
     },
     "execution_count": 48,
     "metadata": {},
     "output_type": "execute_result"
    },
    {
     "data": {
      "image/png": "[encoded data removed]",
      "text/plain": [
       "<Figure size 1000x500 with 2 Axes>"
      ]
     },
     "metadata": {
      "needs_background": "light"
     },
     "output_type": "display_data"
    }
   ],
   "source": [
    "# Plot\n",
    "kwargs = dict(hist_kws={'alpha':.7}, kde_kws={'linewidth':2})\n",
    "# plot\n",
    "fig, axes = plt.subplots(1, 2, figsize=(10, 5), sharey=False, dpi=100)\n",
    "sns.distplot(valid_dataset['rouge2-f'] , color=\"dodgerblue\", ax=axes[0], axlabel='Rouge-2 Fscore')\n",
    "sns.distplot(valid_dataset['rougel-f'], color=\"deeppink\", ax=axes[1], axlabel='Rouge-L Fscore')"
   ]
  },
  {
   "cell_type": "code",
   "execution_count": null,
   "metadata": {},
   "outputs": [],
   "source": []
  }
 ],
 "metadata": {
  "environment": {
   "name": "pytorch-gpu.1-4.m46",
   "type": "gcloud",
   "uri": "gcr.io/deeplearning-platform-release/pytorch-gpu.1-4:m46"
  },
  "kernelspec": {
   "display_name": "Python 3",
   "language": "python",
   "name": "python3"
  },
  "language_info": {
   "codemirror_mode": {
    "name": "ipython",
    "version": 3
   },
   "file_extension": ".py",
   "mimetype": "text/x-python",
   "name": "python",
   "nbconvert_exporter": "python",
   "pygments_lexer": "ipython3",
   "version": "3.7.6"
  }
 },
 "nbformat": 4,
 "nbformat_minor": 4
}
